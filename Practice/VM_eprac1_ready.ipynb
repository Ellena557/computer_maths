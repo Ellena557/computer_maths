{
 "cells": [
  {
   "cell_type": "markdown",
   "metadata": {},
   "source": [
    "## Метод Гаусса с выбором главного элемента по строке"
   ]
  },
  {
   "cell_type": "markdown",
   "metadata": {},
   "source": [
    "Библиотеки:"
   ]
  },
  {
   "cell_type": "code",
   "execution_count": 1,
   "metadata": {},
   "outputs": [],
   "source": [
    "import numpy as np\n",
    "from scipy import linalg as LA\n",
    "import math"
   ]
  },
  {
   "cell_type": "markdown",
   "metadata": {},
   "source": [
    "Для начала напишем ряд вспомогательных функций, которые пригодятся потом в основной:"
   ]
  },
  {
   "cell_type": "code",
   "execution_count": 2,
   "metadata": {},
   "outputs": [],
   "source": [
    "def makeI(n):\n",
    "    # возвращает единичную матрицу размера n*n\n",
    "    \n",
    "    I = []\n",
    "    for i in range(n):\n",
    "        k = np.zeros(n)\n",
    "        k[i] = 1\n",
    "        I.append(k)\n",
    "    return np.array(I)\n",
    "\n",
    "\n",
    "def sq_matrix_product(A, B):\n",
    "    # произведение квадратных матриц A@B\n",
    "    \n",
    "    n = len(A)\n",
    "    C  = np.zeros((n, n))\n",
    "    \n",
    "    for i in range(n):\n",
    "        for j in range(n):\n",
    "            for k in range(n):\n",
    "                C[i][j] = C[i][j] + A[i][k] * B[k][j]\n",
    "    return C\n",
    "\n",
    "\n",
    "def matrix_and_column_product(A, b):\n",
    "    # произведение квадратной матрицы и столбца\n",
    "    \n",
    "    n = b.shape[0]\n",
    "    c = np.zeros(n)\n",
    "    \n",
    "    for i in range(n):\n",
    "        for j in range(n):\n",
    "            c[i] = c[i] +  A[i][j] * b[j] \n",
    "            \n",
    "    return c\n",
    "\n",
    "\n",
    "def find_Q(A):\n",
    "    # находит матрицу Q - перестановок, соответствующих выбору главного элемента по строке\n",
    "    \n",
    "    n = len(A)\n",
    "    Q = makeI(n)\n",
    "    for i in range(n - 1):\n",
    "        max_ind = i\n",
    "        max_val = abs(A[i, i])\n",
    "        for j in range(i, n):\n",
    "            if (abs(A[i, j]) > max_val):\n",
    "                max_val = abs(A[i, j])\n",
    "                max_ind = j\n",
    "                \n",
    "        if max_ind is not i:\n",
    "            for k in range(n):\n",
    "                temp = Q[k, max_ind]\n",
    "                Q[k, max_ind] = Q[k, i]\n",
    "                Q[k, i] = temp\n",
    "\n",
    "    return Q\n",
    "\n",
    "\n",
    "def findLU(A):\n",
    "    # вычисляет LU-разложение для матрицы А\n",
    "    \n",
    "    U = np.copy(A)\n",
    "    n = len(A)\n",
    "    # единичная матрица\n",
    "    L = makeI(n)\n",
    "    \n",
    "    for i in range(0, n-1):\n",
    "        for j in range(i+1, n):\n",
    "            L[j, i] = U[j, i] / U[i, i]\n",
    "            U[j, i:n] = U[j, i:n] - L[j, i] * U[i, i:n]\n",
    "            \n",
    "    L = np.array(L)\n",
    "    U = np.array(U)\n",
    "    return L, U"
   ]
  },
  {
   "cell_type": "markdown",
   "metadata": {},
   "source": [
    "И вот основная функция, которая решает систему нужным методом:"
   ]
  },
  {
   "cell_type": "code",
   "execution_count": 3,
   "metadata": {},
   "outputs": [],
   "source": [
    "def find_gauss(A, b):\n",
    "    # принимает на вход матрицу А и правую часть b\n",
    "    \n",
    "    n = len(A)\n",
    "    A = np.array(A)\n",
    "    b = np.array(b)\n",
    "    \n",
    "    # вычисление матрицы перестановки\n",
    "    Q = find_Q(A)\n",
    "    \n",
    "    # матричное произведение\n",
    "    AQ = sq_matrix_product(A, Q)\n",
    "    \n",
    "    # ищем LU-разложение: AQ=LU\n",
    "    L, U = findLU(AQ)\n",
    "           \n",
    "    # прямой проход    \n",
    "    y = np.zeros(n)\n",
    "    for i in range(n):\n",
    "        y[i] = b[i] \n",
    "        for j in range(i):\n",
    "            y[i] -= L[i, j] * y[j] \n",
    "            \n",
    "    # обратный проход\n",
    "    x = np.zeros(n)\n",
    "    for i in reversed(range(n)):\n",
    "        x[i] = y[i]\n",
    "        \n",
    "        if (i < n):\n",
    "            for j in range(i + 1, n):\n",
    "                x[i] -= x[j] * U[i, j]\n",
    "        x[i] /= U[i,i]\n",
    "    \n",
    "    # см. пояснение в клетке ниже\n",
    "    x = matrix_and_column_product(Q, x)\n",
    "\n",
    "    # возвращаем матрицы и вектор решения\n",
    "    return L, U, Q, x"
   ]
  },
  {
   "cell_type": "markdown",
   "metadata": {},
   "source": [
    "Пояснение к строке: x = matrix_and_column_product(Q, x)\n",
    "\n",
    "Мы нашли $x$ такой, что $AQx=b$\n",
    "\n",
    "Но нам нужен $\\widehat{x}$, такой что $A\\widehat{x} = b$.\n",
    "\n",
    "Таким образом: $A\\widehat{x} = AQX$ $\\Rightarrow$ $\\widehat{x} = Qx$, что мы и написали в предпоследней строчке функции."
   ]
  },
  {
   "cell_type": "markdown",
   "metadata": {},
   "source": [
    "### Проверка решения"
   ]
  },
  {
   "cell_type": "markdown",
   "metadata": {},
   "source": [
    "Рассмотрим теперь случайные матрицу $A$ и правую часть $b$."
   ]
  },
  {
   "cell_type": "code",
   "execution_count": 6,
   "metadata": {},
   "outputs": [],
   "source": [
    "# размер А\n",
    "N = 8\n",
    "\n",
    "A = np.random.randint(-1000, 1000, (N, N))\n",
    "b = np.random.randint(-1000, 1000, N)"
   ]
  },
  {
   "cell_type": "code",
   "execution_count": 7,
   "metadata": {},
   "outputs": [
    {
     "name": "stdout",
     "output_type": "stream",
     "text": [
      "Решение:  [-2.67078576 -5.68034219  6.19152353 -3.29834691 -3.23230405 -1.45709333\n",
      "  7.26134982  2.55876847]\n",
      "Норма разницы решений: 1.3766765505351941e-14\n"
     ]
    }
   ],
   "source": [
    "# решение при помощи библиотечной функции\n",
    "x_real = np.linalg.solve(A, b)\n",
    "\n",
    "# наше решение\n",
    "x_our = find_gauss(A,b)[3]\n",
    "\n",
    "l1_norm = np.linalg.norm(x_our - x_real, 1)\n",
    "\n",
    "print(\"Решение: \", x_our)\n",
    "print(\"Норма разницы решений:\", l1_norm)"
   ]
  },
  {
   "cell_type": "markdown",
   "metadata": {},
   "source": [
    "В принципе, функцию для вычисления нормы также можно расписать. Рассмотрим, например, такую:"
   ]
  },
  {
   "cell_type": "code",
   "execution_count": 8,
   "metadata": {},
   "outputs": [],
   "source": [
    "def find_norm(x, y):\n",
    "    n = len(x)\n",
    "    res = 0\n",
    "    \n",
    "    for i in range(n):\n",
    "        res += (x[i] - y[i]) ** 2\n",
    "\n",
    "    res = np.sqrt(res)\n",
    "    \n",
    "    return res"
   ]
  },
  {
   "cell_type": "code",
   "execution_count": 9,
   "metadata": {},
   "outputs": [
    {
     "name": "stdout",
     "output_type": "stream",
     "text": [
      "Посчитанная норма разницы решений: 5.347542221830668e-15\n"
     ]
    }
   ],
   "source": [
    "print(\"Посчитанная норма разницы решений:\", find_norm(x_our, x_real))"
   ]
  },
  {
   "cell_type": "markdown",
   "metadata": {},
   "source": [
    "В любом случае, можно заметить, что норма разницы между двумя решениями довольно маленькая."
   ]
  }
 ],
 "metadata": {
  "kernelspec": {
   "display_name": "Python 3",
   "language": "python",
   "name": "python3"
  },
  "language_info": {
   "codemirror_mode": {
    "name": "ipython",
    "version": 3
   },
   "file_extension": ".py",
   "mimetype": "text/x-python",
   "name": "python",
   "nbconvert_exporter": "python",
   "pygments_lexer": "ipython3",
   "version": "3.7.1"
  }
 },
 "nbformat": 4,
 "nbformat_minor": 2
}
