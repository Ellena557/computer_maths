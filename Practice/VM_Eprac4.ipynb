{
 "cells": [
  {
   "cell_type": "markdown",
   "metadata": {},
   "source": [
    "# Практическое задание 4\n",
    "\n",
    "# Составные квадратурные формулы"
   ]
  },
  {
   "cell_type": "code",
   "execution_count": 1,
   "metadata": {},
   "outputs": [],
   "source": [
    "import numpy as np\n",
    "from scipy import linalg as LA\n",
    "import math\n",
    "import matplotlib.pyplot as plt"
   ]
  },
  {
   "cell_type": "markdown",
   "metadata": {},
   "source": [
    "Веса для квадратурной формулы:"
   ]
  },
  {
   "cell_type": "markdown",
   "metadata": {},
   "source": [
    "Для вычисления весов мы решаем систему, для которой вычислим значения в правой части:\n",
    "\n",
    "$$\\int\\limits_{-1}^1 1dx = 1 - (-1) = 2$$\n",
    "\n",
    "$$\\int\\limits_{-1}^1 x dx = 0$$\n",
    "\n",
    "$$\\int\\limits_{-1}^1 x^2 dx = \\dfrac{x^3}{3} \\bigg|_{-1}^1 = \\dfrac{2}{3}$$\n",
    "\n",
    "$$\\int\\limits_{-1}^1 x^3 dx = 0$$\n",
    "\n",
    "$$\\int\\limits_{-1}^1 x^4 dx = \\dfrac{x^5}{5} \\bigg|_{-1}^1 =  \\dfrac{2}{5}$$\n",
    "\n",
    "$ $\n",
    "\n",
    "Если мы строим интерполяционный многочлен $L_n(x)$, то рассмотрим $I - S(f)$, где \n",
    "\n",
    "$$S(f) = c_1f(x_1) +  c_2f(x_2) +  c_3f(x_3) +  c_4f(x_4) +  c_5f(x_5)$$"
   ]
  },
  {
   "cell_type": "code",
   "execution_count": 2,
   "metadata": {},
   "outputs": [
    {
     "name": "stdout",
     "output_type": "stream",
     "text": [
      "Коэффициенты:  0.02857142857142858 0.5417989417989416 0.8592592592592598 0.5417989417989414 0.028571428571428723\n"
     ]
    }
   ],
   "source": [
    "nodes = [-1, -3/4, 0, 3/4, 1]\n",
    "\n",
    "# матрица системы\n",
    "A = np.zeros((5, 5))\n",
    "for i in range(0, 5):\n",
    "    for j in range(0, 5):\n",
    "        A[i, j] = nodes[j] ** i\n",
    "\n",
    "#print(\"A = \", A)\n",
    "\n",
    "b = np.array([2, 0, 2/3, 0, 2/5])\n",
    "c1, c2, c3, c4, c5 = np.linalg.solve(A, b)\n",
    "\n",
    "print('Коэффициенты: ', c1, c2, c3, c4, c5)"
   ]
  },
  {
   "cell_type": "markdown",
   "metadata": {},
   "source": [
    "Второй способ: коэффициенты считаются по формулам:\n",
    "\n",
    "$$c_m = \\int\\limits_{-1}^1 \\prod\\limits_{k = 1, k \\neq m} ^ n \\dfrac{x - x_k}{x_m - x_k} dx $$\n",
    "\n",
    "$$c_1 = \\int\\limits_{-1}^1 \\dfrac{(x+\\frac{3}{4})x(x-\\frac{3}{4})(x-1)}{-\\frac{1}{4} \\cdot (-1) \\cdot (-\\frac{7}{4}) \\cdot (-2)} dx = \\frac{8}{7} \\cdot \\frac{1}{40} = \\frac{1}{35} = 0.02857143$$\n",
    "\n",
    "$$c_2 = \\int\\limits_{-1}^1 \\dfrac{(x+1)x(x-\\frac{3}{4})(x-1)}{\\frac{1}{4} \\cdot (-\\frac{3}{4}) \\cdot (-\\frac{6}{4}) \\cdot (-\\frac{7}{4})} dx = - \\frac{128}{63} \\cdot (-\\frac{4}{15}) = \\frac{512}{945} = 0.54179894$$\n",
    "\n",
    "Аналогично:\n",
    "\n",
    "$$c_3 = 0.8592592$$\n",
    "\n",
    "$$c_4 = 0.5417989$$\n",
    "\n",
    "$$c_5 = 0.02857143$$"
   ]
  },
  {
   "cell_type": "code",
   "execution_count": 145,
   "metadata": {},
   "outputs": [],
   "source": [
    "def count_integral_on_interval(f, x0, x1):\n",
    "    h34 = (x1-x0) / 8\n",
    "    integral = c1*f(x0) + c2*f(x0+h34) + c3*f((x1+x0)/2) + c4*f(x1-h34) + c5*f(x1)\n",
    "    return integral"
   ]
  },
  {
   "cell_type": "code",
   "execution_count": 146,
   "metadata": {},
   "outputs": [],
   "source": [
    "def count_integral(f, a, b, N):\n",
    "    h = (b-a)/2/(N-1)\n",
    "    xes = np.array(np.linspace(a, b, N))\n",
    "    integral = 0\n",
    "    for i in range(1, xes.shape[0] - 1):\n",
    "        integral += h*count_integral_on_interval(f, xes[i], xes[i+1])\n",
    "        #integral += h * (c1*f(xes[i-1]) + c2*f(xes[i]-0.75*h) + c3*f(xes[i]) + c4*f(xes[i]+0.75*h) + c5*f(xes[i+1]))\n",
    "    return integral"
   ]
  },
  {
   "cell_type": "code",
   "execution_count": 147,
   "metadata": {},
   "outputs": [],
   "source": [
    "def count_runge_error(f, a, b, N):\n",
    "    S1 = count_integral(f, a, b, N)\n",
    "    S2 = count_integral(f, a, b, 2*N)\n",
    "    # точность = 5 - 1\n",
    "    # порядок k = точность + 1\n",
    "    k = 5\n",
    "    eps = (abs(S2 - S1)) / (2**k-1)\n",
    "    return eps"
   ]
  },
  {
   "cell_type": "code",
   "execution_count": 148,
   "metadata": {},
   "outputs": [],
   "source": [
    "def count_square_formula(f, a, b, tol):\n",
    "    integral = 0\n",
    "    N = 2\n",
    "    cur_tol = 20 * tol\n",
    "    \n",
    "    while(cur_tol > tol):\n",
    "        integral = count_integral(f, a, b, N)\n",
    "        cur_tol = count_runge_error(f, a, b, N)\n",
    "        N *= 2\n",
    "        \n",
    "    return integral, N"
   ]
  },
  {
   "cell_type": "markdown",
   "metadata": {},
   "source": [
    "### Гладкая функция 1"
   ]
  },
  {
   "cell_type": "markdown",
   "metadata": {},
   "source": [
    "Рассмотрим на отрезке $[0,1]$."
   ]
  },
  {
   "cell_type": "code",
   "execution_count": 160,
   "metadata": {},
   "outputs": [],
   "source": [
    "def func_1(x):\n",
    "    return np.sin(x)"
   ]
  },
  {
   "cell_type": "code",
   "execution_count": 161,
   "metadata": {},
   "outputs": [],
   "source": [
    "ntols = [0.1, 0.01, 0.001, 0.0001, 1e-5, 1e-6, 1e-7, 1e-8, 1e-9, 1e-10, 1e-11, 1e-12]"
   ]
  },
  {
   "cell_type": "code",
   "execution_count": 162,
   "metadata": {},
   "outputs": [
    {
     "name": "stdout",
     "output_type": "stream",
     "text": [
      "tol =  0.1\n",
      "integral =  0\n",
      "N =  4\n",
      "---------------------------\n",
      "tol =  0.01\n",
      "integral =  0.4046546406625352\n",
      "N =  8\n",
      "---------------------------\n",
      "tol =  0.001\n",
      "integral =  0.449510954579957\n",
      "N =  16\n",
      "---------------------------\n",
      "tol =  0.0001\n",
      "integral =  0.4574762948329982\n",
      "N =  32\n",
      "---------------------------\n",
      "tol =  1e-05\n",
      "integral =  0.45957172046039085\n",
      "N =  128\n",
      "---------------------------\n",
      "tol =  1e-06\n",
      "integral =  0.4596666942300273\n",
      "N =  256\n",
      "---------------------------\n",
      "tol =  1e-07\n",
      "integral =  0.45969577931137323\n",
      "N =  1024\n",
      "---------------------------\n",
      "tol =  1e-08\n",
      "integral =  0.459697574806073\n",
      "N =  4096\n",
      "---------------------------\n",
      "tol =  1e-09\n",
      "integral =  0.4596976643149807\n",
      "N =  8192\n",
      "---------------------------\n",
      "tol =  1e-10\n",
      "integral =  0.45969769226898666\n",
      "N =  32768\n",
      "---------------------------\n",
      "tol =  1e-11\n",
      "integral =  0.45969769401544136\n",
      "N =  131072\n",
      "---------------------------\n",
      "tol =  1e-12\n",
      "integral =  0.4596976941027571\n",
      "N =  262144\n",
      "---------------------------\n"
     ]
    }
   ],
   "source": [
    "myNs = []\n",
    "\n",
    "for my_tol in ntols:\n",
    "    cur_int, cur_n = count_square_formula(func_1, 0, 1, my_tol)\n",
    "    myNs.append(cur_n)\n",
    "    print('tol = ', my_tol)\n",
    "    print('integral = ', cur_int)\n",
    "    print('N = ', cur_n)\n",
    "    print('---------------------------')"
   ]
  },
  {
   "cell_type": "markdown",
   "metadata": {},
   "source": [
    "Построим теперь график зависимости:"
   ]
  },
  {
   "cell_type": "code",
   "execution_count": 163,
   "metadata": {},
   "outputs": [
    {
     "data": {
      "image/png": "[encoded data removed]",
      "text/plain": [
       "<Figure size 1080x432 with 1 Axes>"
      ]
     },
     "metadata": {
      "needs_background": "light"
     },
     "output_type": "display_data"
    }
   ],
   "source": [
    "fig = plt.figure(figsize=(15, 6))\n",
    "ax = fig.add_subplot(111)\n",
    "plt.plot(myNs, ntols, color = 'orangered', label = \"полученные значения\", linewidth = 1)\n",
    "plt.xlabel('x', fontsize=16)\n",
    "plt.ylabel('tol', fontsize=16)\n",
    "plt.title(\"Зависимость ошибки от числа точек разбиения\", fontsize=16)\n",
    "plt.legend(fontsize=14)\n",
    "ax.set_xscale('log')\n",
    "ax.set_yscale('log')\n",
    "plt.show()"
   ]
  },
  {
   "cell_type": "markdown",
   "metadata": {},
   "source": [
    "Как мы видим, у нас линейный порядок убывания на графике с логарифмической шкалой (есть небольшие скачки, так как вычисляем мы N не совсем точно, сгущая сетку каждый раз в два раза). Это правильно, так как в теории зависимость имеет вид:\n",
    "\n",
    "$\\epsilon = \\dfrac{C_1}{N^{C_2}}$\n",
    "\n",
    "То есть $ln(\\epsilon \\cdot N^{C_2}) = ln(\\epsilon) + C_2ln(N) = ln(C_1) = const$ - то есть это линейная функция. "
   ]
  },
  {
   "cell_type": "markdown",
   "metadata": {},
   "source": [
    "### Гладкая фунция 2"
   ]
  },
  {
   "cell_type": "markdown",
   "metadata": {},
   "source": [
    "Рассмотрим отрезок $[-2, 2]$."
   ]
  },
  {
   "cell_type": "code",
   "execution_count": 169,
   "metadata": {},
   "outputs": [],
   "source": [
    "def func_2(x):\n",
    "    return np.sin(x) + x**2 + np.cos(x)"
   ]
  },
  {
   "cell_type": "code",
   "execution_count": 176,
   "metadata": {},
   "outputs": [],
   "source": [
    "ntols2 = [0.1, 0.01, 0.001, 0.0001, 1e-5, 1e-6, 1e-7]"
   ]
  },
  {
   "cell_type": "code",
   "execution_count": 177,
   "metadata": {},
   "outputs": [
    {
     "name": "stdout",
     "output_type": "stream",
     "text": [
      "tol =  0.1\n",
      "integral =  5.495139753618348\n",
      "N =  8\n",
      "---------------------------\n",
      "tol =  0.01\n",
      "integral =  6.553009787008357\n",
      "N =  32\n",
      "---------------------------\n",
      "tol =  0.001\n",
      "integral =  7.11040367982506\n",
      "N =  512\n",
      "---------------------------\n",
      "tol =  0.0001\n",
      "integral =  7.146708584596497\n",
      "N =  4096\n",
      "---------------------------\n",
      "tol =  1e-05\n",
      "integral =  7.151601719295026\n",
      "N =  65536\n",
      "---------------------------\n",
      "tol =  1e-06\n",
      "integral =  7.151887376755509\n",
      "N =  524288\n",
      "---------------------------\n",
      "tol =  1e-07\n",
      "integral =  7.151923085678636\n",
      "N =  4194304\n",
      "---------------------------\n"
     ]
    }
   ],
   "source": [
    "myNs2 = []\n",
    "\n",
    "for my_tol in ntols2:\n",
    "    cur_int, cur_n = count_square_formula(func_2, -2, 2, my_tol)\n",
    "    myNs2.append(cur_n)\n",
    "    print('tol = ', my_tol)\n",
    "    print('integral = ', cur_int)\n",
    "    print('N = ', cur_n)\n",
    "    print('---------------------------')"
   ]
  },
  {
   "cell_type": "markdown",
   "metadata": {},
   "source": [
    "Теперь построим график зависимости:"
   ]
  },
  {
   "cell_type": "code",
   "execution_count": 178,
   "metadata": {},
   "outputs": [
    {
     "data": {
      "image/png": "[encoded data removed]",
      "text/plain": [
       "<Figure size 1080x432 with 1 Axes>"
      ]
     },
     "metadata": {
      "needs_background": "light"
     },
     "output_type": "display_data"
    }
   ],
   "source": [
    "fig = plt.figure(figsize=(15, 6))\n",
    "ax = fig.add_subplot(111)\n",
    "plt.plot(myNs2, ntols2, color = 'orangered', label = \"полученные значения\", linewidth = 1)\n",
    "plt.xlabel('x', fontsize=16)\n",
    "plt.ylabel('tol', fontsize=16)\n",
    "plt.title(\"Зависимость ошибки от числа точек разбиения\", fontsize=16)\n",
    "plt.legend(fontsize=14)\n",
    "ax.set_xscale('log')\n",
    "ax.set_yscale('log')\n",
    "plt.show()"
   ]
  },
  {
   "cell_type": "markdown",
   "metadata": {},
   "source": [
    "И снова видим практически линейную зависимость."
   ]
  },
  {
   "cell_type": "markdown",
   "metadata": {},
   "source": [
    "### Гладкая фунция 3"
   ]
  },
  {
   "cell_type": "markdown",
   "metadata": {},
   "source": [
    "Рассмотрим отрезок $[0, 3]$."
   ]
  },
  {
   "cell_type": "code",
   "execution_count": 179,
   "metadata": {},
   "outputs": [],
   "source": [
    "def func_2(x):\n",
    "    return x*np.sin(x)"
   ]
  },
  {
   "cell_type": "code",
   "execution_count": 180,
   "metadata": {},
   "outputs": [],
   "source": [
    "ntols3 = [0.1, 0.01, 0.001, 0.0001, 1e-5, 1e-6, 1e-7]"
   ]
  },
  {
   "cell_type": "code",
   "execution_count": 181,
   "metadata": {},
   "outputs": [
    {
     "name": "stdout",
     "output_type": "stream",
     "text": [
      "tol =  0.1\n",
      "integral =  0\n",
      "N =  4\n",
      "---------------------------\n",
      "tol =  0.01\n",
      "integral =  3.0089029891559766\n",
      "N =  32\n",
      "---------------------------\n",
      "tol =  0.001\n",
      "integral =  3.4259555412204485\n",
      "N =  256\n",
      "---------------------------\n",
      "tol =  0.0001\n",
      "integral =  3.479628671883924\n",
      "N =  4096\n",
      "---------------------------\n",
      "tol =  1e-05\n",
      "integral =  3.482738182156515\n",
      "N =  32768\n",
      "---------------------------\n",
      "tol =  1e-06\n",
      "integral =  3.483126700341856\n",
      "N =  262144\n",
      "---------------------------\n",
      "tol =  1e-07\n",
      "integral =  3.4831787311440414\n",
      "N =  4194304\n",
      "---------------------------\n"
     ]
    }
   ],
   "source": [
    "myNs3 = []\n",
    "\n",
    "for my_tol in ntols3:\n",
    "    cur_int, cur_n = count_square_formula(func_2, -2, 2, my_tol)\n",
    "    myNs3.append(cur_n)\n",
    "    print('tol = ', my_tol)\n",
    "    print('integral = ', cur_int)\n",
    "    print('N = ', cur_n)\n",
    "    print('---------------------------')"
   ]
  },
  {
   "cell_type": "code",
   "execution_count": 182,
   "metadata": {},
   "outputs": [
    {
     "data": {
      "image/png": "[encoded data removed]",
      "text/plain": [
       "<Figure size 1080x432 with 1 Axes>"
      ]
     },
     "metadata": {
      "needs_background": "light"
     },
     "output_type": "display_data"
    }
   ],
   "source": [
    "fig = plt.figure(figsize=(15, 6))\n",
    "ax = fig.add_subplot(111)\n",
    "plt.plot(myNs3, ntols3, color = 'orangered', label = \"полученные значения\", linewidth = 1)\n",
    "plt.xlabel('x', fontsize=16)\n",
    "plt.ylabel('tol', fontsize=16)\n",
    "plt.title(\"Зависимость ошибки от числа точек разбиения\", fontsize=16)\n",
    "plt.legend(fontsize=14)\n",
    "ax.set_xscale('log')\n",
    "ax.set_yscale('log')\n",
    "plt.show()"
   ]
  },
  {
   "cell_type": "markdown",
   "metadata": {},
   "source": [
    "И вновь, видим практически линейную зависимоть (опять же, если бы мы считали N точнее, то результат получился бы более ровный)."
   ]
  },
  {
   "cell_type": "markdown",
   "metadata": {},
   "source": [
    "**Вывод:** порядок убывания ошибки (продемонстрированный на логарифмической сетке) совпадает с теоретической оценкой."
   ]
  }
 ],
 "metadata": {
  "kernelspec": {
   "display_name": "Python 3",
   "language": "python",
   "name": "python3"
  },
  "language_info": {
   "codemirror_mode": {
    "name": "ipython",
    "version": 3
   },
   "file_extension": ".py",
   "mimetype": "text/x-python",
   "name": "python",
   "nbconvert_exporter": "python",
   "pygments_lexer": "ipython3",
   "version": "3.7.1"
  }
 },
 "nbformat": 4,
 "nbformat_minor": 2
}
