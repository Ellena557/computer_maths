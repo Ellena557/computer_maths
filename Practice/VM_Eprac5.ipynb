{
 "cells": [
  {
   "cell_type": "markdown",
   "metadata": {},
   "source": [
    "## Вариант 4\n",
    "\n",
    "# Численное решение задачи Коши"
   ]
  },
  {
   "cell_type": "markdown",
   "metadata": {},
   "source": [
    "Необходимые библиотеки."
   ]
  },
  {
   "cell_type": "code",
   "execution_count": 1,
   "metadata": {},
   "outputs": [],
   "source": [
    "import numpy as np\n",
    "import matplotlib.pyplot as plt"
   ]
  },
  {
   "cell_type": "markdown",
   "metadata": {},
   "source": [
    "Найдем порядок метода. Для этого рассмотрим условия порядка:\n",
    "\n",
    "0) Упрощающие условия:\n",
    "\n",
    "$a_{11} + a_{12} = c_1$, $\\dfrac{1}{4} = \\dfrac{1}{4}$ - верно.\n",
    "\n",
    "$a_{21} + a_{22} = c_2$, $\\dfrac{1}{4} + \\dfrac{1}{2} = \\dfrac{3}{4}$ - верно.\n",
    "\n",
    "1) Первый порядок:\n",
    "\n",
    "$b_1 + b_2 = 1$, $\\dfrac{1}{2} + \\dfrac{1}{2} = 1$ - верно.\n",
    "\n",
    "2) Второй порядок: \n",
    "\n",
    "$b_1c_1 + b_2c_2 = \\dfrac{1}{2}$ \n",
    "\n",
    "$\\dfrac{1}{2} \\cdot \\dfrac{1}{4} + \\dfrac{1}{2} \\cdot \\dfrac{3}{4} = \\dfrac{1}{2}$ - верно.\n",
    "\n",
    "3) Третий порядок:\n",
    "\n",
    "3.а) $b_1c_1^2 + b_2 c_2^2 = \\dfrac{1}{3}$\n",
    "\n",
    "$\\dfrac{1}{2} \\cdot \\dfrac{1}{16} + \\dfrac{1}{2} \\cdot \\dfrac{9}{16} = \\dfrac{5}{16} \\neq \\dfrac{1}{3}$ - уже не выполнено.\n",
    "\n",
    "3.б) $b_1a_{11}c_1 + b_1a_{12}c_2 + b_2a_{21}c_1 + b_2a_{22}c_2 = \\dfrac{1}{6}$\n",
    "\n",
    "$\\dfrac{1}{2} \\cdot \\dfrac{1}{4} \\cdot \\dfrac{1}{4} + \\dfrac{1}{2} \\cdot \\dfrac{1}{2} \\cdot \\dfrac{1}{4} + \\dfrac{1}{2} \\cdot \\dfrac{1}{4} \\cdot \\dfrac{3}{4} = \\dfrac{3}{16} \\neq \\dfrac{1}{6}$ - тоже не выполнено (хотя хватило бы и предыдущего подпункта).\n",
    "\n",
    "$ $\n",
    "\n",
    "Итак, это метод второго порядка."
   ]
  },
  {
   "cell_type": "code",
   "execution_count": 2,
   "metadata": {},
   "outputs": [],
   "source": [
    "# коэффициенты\n",
    "a11 = 1/4\n",
    "c1 = 1/4\n",
    "c2 = 3/4 \n",
    "a21 = 1/2\n",
    "a22 = 1/4\n",
    "b1 = 1/2\n",
    "b2 = 1/2"
   ]
  },
  {
   "cell_type": "code",
   "execution_count": 3,
   "metadata": {},
   "outputs": [],
   "source": [
    "# метод Ньютона, для поиска коэффициентов k_i\n",
    "def find_newton(x0, g, jak, eps):\n",
    "    x = x0\n",
    "    x_prev = x0 + 2 * eps\n",
    "    while (abs(x - x_prev) > eps):\n",
    "        x_prev = x\n",
    "        x = x - g(x)/jak(x)\n",
    "    return x"
   ]
  },
  {
   "cell_type": "code",
   "execution_count": 4,
   "metadata": {},
   "outputs": [],
   "source": [
    "def count_k_12(f, U_n, t_n, h, eps, jak):\n",
    "    #k_1 = f(t_n + c_1 * h, U_n + a11 * k_1 + a12 * k_2), a12 = 0\n",
    "    \n",
    "    def f_1(k):\n",
    "        res = f(t_n + c1 * h, U_n + a11 * k) - k    \n",
    "        return res \n",
    "    #k_1 = f(t_n + c_1 * h, U_n + a11 * k_1)   \n",
    "    \n",
    "    def jak_1(k):\n",
    "        res = jak(t_n + c1 * h, U_n + a11 * k) - 1\n",
    "        return res\n",
    "        \n",
    "    k_1 = find_newton(0, f_1, jak_1, eps)\n",
    "    \n",
    "    def f_2(k):\n",
    "        res = f(t_n + c2 * h, U_n + h * a21 * k_1 + a22 * k) - k\n",
    "        return res\n",
    "    #k_2 = f(t_n + c_2 * h, U_n + h * a21 * k_1 + a22 * k_2)\n",
    "    \n",
    "    def jak_2(k):\n",
    "        res = jak(t_n + c2 * h, U_n + h * a21 * k_1 + a22 * k) - 1\n",
    "        return res\n",
    "\n",
    "    k_2 = find_newton(0, f_2, jak_2, eps)\n",
    "    \n",
    "    return k_1, k_2"
   ]
  },
  {
   "cell_type": "code",
   "execution_count": 5,
   "metadata": {},
   "outputs": [],
   "source": [
    "def solve_runge_kutta(f, T, u0, jak, n, eps):\n",
    "    # T - правая граница отрезка\n",
    "    # u0 - вектор начального условия\n",
    "    # f = f(t, u) - функция\n",
    "    # jak - функция для вычисления якобиана\n",
    "    # n - количество шагов интегрирования\n",
    "    # eps - точность для критерия остановки итераций по нелинейности\n",
    "    \n",
    "    h = T / (n+1)\n",
    "    U_n = u0\n",
    "    \n",
    "    xes = np.zeros(n+1)\n",
    "    Us = np.zeros(n+1)\n",
    "    xes[0] = 0\n",
    "    Us[0] = u0\n",
    "    \n",
    "    for i in range(0, n+1):\n",
    "        t_n = h * i\n",
    "        k_1, k_2 = count_k_12(f, U_n, t_n, h, eps, jak)\n",
    "        \n",
    "        xes[i] = t_n\n",
    "        Us[i] = U_n \n",
    "        \n",
    "        U_n = U_n + h * (b1 * k_1 + b2 * k_2)\n",
    "    \n",
    "    return xes, Us"
   ]
  },
  {
   "cell_type": "markdown",
   "metadata": {},
   "source": [
    "### Тестовая задача 1"
   ]
  },
  {
   "cell_type": "markdown",
   "metadata": {},
   "source": [
    "Рассмотрим простую функцию: $u(t) = t^2$."
   ]
  },
  {
   "cell_type": "code",
   "execution_count": 35,
   "metadata": {},
   "outputs": [],
   "source": [
    "# f = u'(t)\n",
    "def func_1(t, u):\n",
    "    return 2 * t\n",
    "\n",
    "# delta(f)/delta(u)\n",
    "def f_u(t, u):\n",
    "    return 0"
   ]
  },
  {
   "cell_type": "code",
   "execution_count": 36,
   "metadata": {},
   "outputs": [
    {
     "name": "stdout",
     "output_type": "stream",
     "text": [
      "Точки:  [0.  0.5 1.  1.5 2.  2.5]\n",
      "Решения в них [0.   0.25 1.   2.25 4.   6.25]\n"
     ]
    }
   ],
   "source": [
    "xes, us = solve_runge_kutta(func_1, 3, 0, f_u, 5, 1e-6)\n",
    "print('Точки: ', xes)\n",
    "print('Решения в них', us)"
   ]
  },
  {
   "cell_type": "markdown",
   "metadata": {},
   "source": [
    "Получилось очень точно."
   ]
  },
  {
   "cell_type": "markdown",
   "metadata": {},
   "source": [
    "Рассмотрим бОльшее число точек и построим графики."
   ]
  },
  {
   "cell_type": "code",
   "execution_count": 37,
   "metadata": {},
   "outputs": [],
   "source": [
    "xx, uu = solve_runge_kutta(func_1, 10, 0, f_u, 1000, 1e-5)"
   ]
  },
  {
   "cell_type": "code",
   "execution_count": 38,
   "metadata": {},
   "outputs": [],
   "source": [
    "# сама функция\n",
    "def u_1(t):\n",
    "    return t * t"
   ]
  },
  {
   "cell_type": "code",
   "execution_count": 39,
   "metadata": {},
   "outputs": [
    {
     "data": {
      "image/png": "[encoded data removed]",
      "text/plain": [
       "<Figure size 1080x432 with 1 Axes>"
      ]
     },
     "metadata": {
      "needs_background": "light"
     },
     "output_type": "display_data"
    }
   ],
   "source": [
    "fig = plt.figure(figsize=(15, 6))\n",
    "plt.plot(xx, uu, color = 'orangered', label = \"полученные значения\", linewidth = 1)\n",
    "plt.plot(xx, u_1(xx), color = 'indigo', label = \"теоретические значения\", linewidth = 1)\n",
    "plt.xlabel('x', fontsize=16)\n",
    "plt.ylabel('u', fontsize=16)\n",
    "plt.title(\"Сравнение численного и точного решения\", fontsize=16)\n",
    "plt.legend(fontsize=14)\n",
    "plt.show()"
   ]
  },
  {
   "cell_type": "markdown",
   "metadata": {},
   "source": [
    "Как можно заметить, решения практически совпадают."
   ]
  },
  {
   "cell_type": "markdown",
   "metadata": {},
   "source": [
    "### Тестовая задача 2"
   ]
  },
  {
   "cell_type": "markdown",
   "metadata": {},
   "source": [
    "Рассмотрим задачу посложнее. $u(t) = t \\cdot ln(t+1) + e^{t^2}$."
   ]
  },
  {
   "cell_type": "code",
   "execution_count": 40,
   "metadata": {},
   "outputs": [],
   "source": [
    "def u_2(t):\n",
    "    res = t * np.log(t+1) + np.exp(t ** 2)\n",
    "    return res\n",
    "\n",
    "def func_2(t, u):\n",
    "    res = t/(t+1) + np.log(t+1) + 2 * t * np.exp(t ** 2)\n",
    "    return res\n",
    "\n",
    "def f_u_2(t, u):\n",
    "    return 0"
   ]
  },
  {
   "cell_type": "code",
   "execution_count": 41,
   "metadata": {},
   "outputs": [
    {
     "name": "stdout",
     "output_type": "stream",
     "text": [
      "Точки:  [0.  0.5 1.  1.5 2.  2.5]\n",
      "Решения в них [  1.           1.4843142    3.37828173  10.60796061  54.35853104\n",
      " 486.88871924]\n",
      "Точные решения [  1.           1.48675797   3.41142901  10.86217193  56.79537461\n",
      " 521.14473209]\n"
     ]
    }
   ],
   "source": [
    "xes, us = solve_runge_kutta(func_2, 3, 1, f_u_2, 5, 1e-8)\n",
    "print('Точки: ', xes)\n",
    "print('Решения в них', us)\n",
    "print('Точные решения', u_2(xes))"
   ]
  },
  {
   "cell_type": "markdown",
   "metadata": {},
   "source": [
    "График:"
   ]
  },
  {
   "cell_type": "code",
   "execution_count": 42,
   "metadata": {},
   "outputs": [],
   "source": [
    "xx2, uu2 = solve_runge_kutta(func_2, 3, 1, f_u_2, 30, 1e-5)"
   ]
  },
  {
   "cell_type": "code",
   "execution_count": 43,
   "metadata": {},
   "outputs": [
    {
     "data": {
      "image/png": "[encoded data removed]",
      "text/plain": [
       "<Figure size 1080x432 with 1 Axes>"
      ]
     },
     "metadata": {
      "needs_background": "light"
     },
     "output_type": "display_data"
    }
   ],
   "source": [
    "fig = plt.figure(figsize=(15, 6))\n",
    "plt.plot(xx2, uu2, color = 'orangered', label = \"полученные значения\", linewidth = 1)\n",
    "plt.plot(xx2, u_2(xx2), color = 'indigo', label = \"теоретические значения\", linewidth = 1)\n",
    "plt.xlabel('x', fontsize=16)\n",
    "plt.ylabel('u', fontsize=16)\n",
    "plt.title(\"Сравнение численного и точного решения\", fontsize=16)\n",
    "plt.legend(fontsize=14)\n",
    "plt.show()"
   ]
  },
  {
   "cell_type": "markdown",
   "metadata": {},
   "source": [
    "И снова, практически совпадают."
   ]
  },
  {
   "cell_type": "markdown",
   "metadata": {},
   "source": [
    "### Тестовая задача 3"
   ]
  },
  {
   "cell_type": "code",
   "execution_count": 44,
   "metadata": {},
   "outputs": [],
   "source": [
    "def u_3(t):\n",
    "    res = np.sin(t+1) + 5 * t - np.log(t+1)\n",
    "    return res\n",
    "\n",
    "def func_3(t, u):\n",
    "    res = np.cos(t+1) + 5 - 1/(t+1)\n",
    "    return res\n",
    "\n",
    "def f_u_3(t, u):\n",
    "    return 0"
   ]
  },
  {
   "cell_type": "code",
   "execution_count": 45,
   "metadata": {},
   "outputs": [
    {
     "name": "stdout",
     "output_type": "stream",
     "text": [
      "Точки:  [0.         0.38461538 0.76923077 1.15384615 1.53846154 1.92307692\n",
      " 2.30769231 2.69230769 3.07692308 3.46153846 3.84615385 4.23076923\n",
      " 4.61538462]\n",
      "Решения в них [ 0.84147098  2.58132082  4.25723954  5.83795213  7.32884261  8.75991599\n",
      " 10.17671112 11.63130301 13.17337654 14.8421584  16.66015574 18.62950181\n",
      " 20.73138134]\n",
      "Точные решения [ 0.84147098  2.58037286  4.25598539  5.836763    7.32797341  8.7595287\n",
      " 10.17687383 11.63199012 13.17447758 14.84349701 16.66151705 18.63066494\n",
      " 20.73215237]\n"
     ]
    }
   ],
   "source": [
    "xes, us = solve_runge_kutta(func_3, 5, np.sin(1), f_u_3, 12, 1e-2)\n",
    "print('Точки: ', xes)\n",
    "print('Решения в них', us)\n",
    "print('Точные решения', u_3(xes))"
   ]
  },
  {
   "cell_type": "markdown",
   "metadata": {},
   "source": [
    "Графики:"
   ]
  },
  {
   "cell_type": "code",
   "execution_count": 33,
   "metadata": {},
   "outputs": [],
   "source": [
    "xx3, uu3 = solve_runge_kutta(func_3, 10, np.sin(1), f_u_3, 40, 1e-2)"
   ]
  },
  {
   "cell_type": "code",
   "execution_count": 46,
   "metadata": {},
   "outputs": [
    {
     "data": {
      "image/png": "[encoded data removed]",
      "text/plain": [
       "<Figure size 1080x432 with 1 Axes>"
      ]
     },
     "metadata": {
      "needs_background": "light"
     },
     "output_type": "display_data"
    }
   ],
   "source": [
    "fig = plt.figure(figsize=(15, 6))\n",
    "plt.plot(xx3, uu3, color = 'orangered', label = \"полученные значения\", linewidth = 1)\n",
    "plt.plot(xx3, u_3(xx3), color = 'indigo', label = \"теоретические значения\", linewidth = 1)\n",
    "plt.xlabel('x', fontsize=16)\n",
    "plt.ylabel('u', fontsize=16)\n",
    "plt.title(\"Сравнение численного и точного решения\", fontsize=16)\n",
    "plt.legend(fontsize=14)\n",
    "plt.show()"
   ]
  },
  {
   "cell_type": "code",
   "execution_count": 65,
   "metadata": {},
   "outputs": [],
   "source": [
    "def findMaxError(nodes, numerical, theoretical):\n",
    "    eps = 0\n",
    "    for i in range(len(nodes)-1):\n",
    "        if (abs(numerical[i] - theoretical[i]) > eps):\n",
    "            eps = abs(numerical[i] - theoretical[i])\n",
    "    return eps"
   ]
  },
  {
   "cell_type": "code",
   "execution_count": 68,
   "metadata": {},
   "outputs": [],
   "source": [
    "# последовательность вложенных сеток\n",
    "# n = число разбиений (отрезков)\n",
    "eps = 1\n",
    "n = 2\n",
    "epses = []\n",
    "iters = 0\n",
    "\n",
    "while (eps >= 1e-20 and iters <= 22):\n",
    "    xes3, us3 = solve_runge_kutta(func_3, 10, np.sin(1), f_u_3, n, 1e-3)\n",
    "    u_theor = u_3(xes3)\n",
    "    eps = findMaxError(xes3, us3, u_theor)\n",
    "    epses.append(eps)\n",
    "    n *= 2\n",
    "    iters += 1 # just another stop criterion"
   ]
  },
  {
   "cell_type": "code",
   "execution_count": 105,
   "metadata": {},
   "outputs": [
    {
     "data": {
      "image/png": "[encoded data removed]",
      "text/plain": [
       "<Figure size 1080x432 with 1 Axes>"
      ]
     },
     "metadata": {
      "needs_background": "light"
     },
     "output_type": "display_data"
    }
   ],
   "source": [
    "ns = 2 ** (np.arange(1, 24))\n",
    "\n",
    "fig = plt.figure(figsize=(15, 6))\n",
    "axx = fig.add_subplot(111)\n",
    "plt.plot(ns, epses, color = 'orangered', linewidth = 1)\n",
    "plt.xlabel('x', fontsize=16)\n",
    "plt.ylabel('tol', fontsize=16)\n",
    "plt.title(\"Зависимость ошибки от числа точек разбиения\", fontsize=16)\n",
    "plt.xlim(-1e5, 0.5e7)\n",
    "axx.set_yscale('log')\n",
    "plt.show()"
   ]
  },
  {
   "cell_type": "markdown",
   "metadata": {},
   "source": [
    "Порядок:"
   ]
  },
  {
   "cell_type": "code",
   "execution_count": 107,
   "metadata": {},
   "outputs": [
    {
     "name": "stdout",
     "output_type": "stream",
     "text": [
      "n =  4  p =  1.9535322635632084\n",
      "n =  8  p =  1.2063932038438392\n",
      "n =  16  p =  1.1184743497847769\n",
      "n =  32  p =  1.2445831951400919\n",
      "n =  64  p =  1.3050208305502609\n",
      "n =  128  p =  1.3496154743357307\n",
      "n =  256  p =  1.3689217650462822\n",
      "n =  512  p =  1.3778214450761674\n",
      "n =  1024  p =  1.3823200341077024\n",
      "n =  2048  p =  1.384328184198715\n",
      "n =  4096  p =  1.3853161934401497\n",
      "n =  8192  p =  1.3858049624216038\n",
      "n =  16384  p =  1.3860484238194335\n"
     ]
    }
   ],
   "source": [
    "eps = 1\n",
    "n = 2\n",
    "epses = []\n",
    "iters = 0\n",
    "eps_prev = 1\n",
    "\n",
    "while (eps >= 1e-20 and iters <= 12):\n",
    "    xes3, us3 = solve_runge_kutta(func_3, 10, np.sin(1), f_u_3, n, 1e-3)\n",
    "    u_theor = u_3(xes3)\n",
    "    eps_prev = eps\n",
    "    eps = findMaxError(xes3, us3, u_theor)\n",
    "    epses.append(eps)\n",
    "    n *= 2\n",
    "    iters += 1 # just another stop criterion\n",
    "    print('n = ', n, ' p = ', np.log(eps_prev/eps))"
   ]
  },
  {
   "cell_type": "code",
   "execution_count": null,
   "metadata": {},
   "outputs": [],
   "source": []
  }
 ],
 "metadata": {
  "kernelspec": {
   "display_name": "Python 3",
   "language": "python",
   "name": "python3"
  },
  "language_info": {
   "codemirror_mode": {
    "name": "ipython",
    "version": 3
   },
   "file_extension": ".py",
   "mimetype": "text/x-python",
   "name": "python",
   "nbconvert_exporter": "python",
   "pygments_lexer": "ipython3",
   "version": "3.7.1"
  }
 },
 "nbformat": 4,
 "nbformat_minor": 2
}
