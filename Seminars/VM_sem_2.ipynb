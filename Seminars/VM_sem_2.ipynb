{
 "cells": [
  {
   "cell_type": "markdown",
   "metadata": {},
   "source": [
    "**Практическое задание, семинар 2**"
   ]
  },
  {
   "cell_type": "code",
   "execution_count": 3,
   "metadata": {},
   "outputs": [],
   "source": [
    "import numpy as np\n",
    "from numpy import linalg as LA"
   ]
  },
  {
   "cell_type": "markdown",
   "metadata": {},
   "source": [
    "**Задача 1**"
   ]
  },
  {
   "cell_type": "code",
   "execution_count": 4,
   "metadata": {},
   "outputs": [],
   "source": [
    "A = [[1, 1, 1, 1], [1, 2, 3, 4], [1, 4, 9, 16], [1, 8, 27, 64]]"
   ]
  },
  {
   "cell_type": "code",
   "execution_count": 7,
   "metadata": {},
   "outputs": [
    {
     "name": "stdout",
     "output_type": "stream",
     "text": [
      "[[ 4.         -4.33333333  1.5        -0.16666667]\n",
      " [-6.          9.5        -4.          0.5       ]\n",
      " [ 4.         -7.          3.5        -0.5       ]\n",
      " [-1.          1.83333333 -1.          0.16666667]]\n"
     ]
    }
   ],
   "source": [
    "# 1) Обратная матрица\n",
    "\n",
    "B = LA.inv(A)\n",
    "print(B)"
   ]
  },
  {
   "cell_type": "code",
   "execution_count": 9,
   "metadata": {},
   "outputs": [
    {
     "name": "stdout",
     "output_type": "stream",
     "text": [
      "[[ 1.00000000e+00  0.00000000e+00  0.00000000e+00  2.77555756e-17]\n",
      " [-3.55271368e-15  1.00000000e+00 -3.55271368e-15  4.44089210e-16]\n",
      " [ 0.00000000e+00  7.10542736e-15  1.00000000e+00  0.00000000e+00]\n",
      " [ 1.42108547e-14  1.42108547e-14  0.00000000e+00  1.00000000e+00]]\n",
      "--------\n",
      "[[ 1.00000000e+00  0.00000000e+00  5.21804822e-15  3.55271368e-15]\n",
      " [-3.33066907e-16  1.00000000e+00 -1.43218770e-14 -7.10542736e-15]\n",
      " [ 1.33226763e-15  3.55271368e-15  1.00000000e+00  1.42108547e-14]\n",
      " [-1.94289029e-16 -6.66133815e-16 -3.02535774e-15  1.00000000e+00]]\n"
     ]
    }
   ],
   "source": [
    "print(A@B)\n",
    "print(\"--------\")\n",
    "print(B@A)"
   ]
  },
  {
   "cell_type": "markdown",
   "metadata": {},
   "source": [
    "Проверим вычисления:"
   ]
  },
  {
   "cell_type": "code",
   "execution_count": 17,
   "metadata": {},
   "outputs": [
    {
     "data": {
      "text/plain": [
       "True"
      ]
     },
     "execution_count": 17,
     "metadata": {},
     "output_type": "execute_result"
    }
   ],
   "source": [
    "# Единичная матрица\n",
    "I = [[1, 0, 0, 0], [0, 1, 0, 0], [0, 0, 1, 0], [0, 0, 0, 1]]\n",
    "\n",
    "np.allclose(A@B, I)"
   ]
  },
  {
   "cell_type": "code",
   "execution_count": 18,
   "metadata": {},
   "outputs": [
    {
     "data": {
      "text/plain": [
       "True"
      ]
     },
     "execution_count": 18,
     "metadata": {},
     "output_type": "execute_result"
    }
   ],
   "source": [
    "np.allclose(B@A, I)"
   ]
  },
  {
   "cell_type": "code",
   "execution_count": 11,
   "metadata": {},
   "outputs": [
    {
     "data": {
      "text/plain": [
       "(array([7.15987322e+01, 3.61988880e+00, 7.16785074e-01, 6.45939334e-02]),\n",
       " array([[-0.01817783,  0.31773458, -0.71011705,  0.35330856],\n",
       "        [-0.0665799 ,  0.52637506, -0.19851846, -0.73817342],\n",
       "        [-0.25130845,  0.68928238,  0.63367794,  0.55538905],\n",
       "        [-0.96544329, -0.38322817, -0.23404373, -0.1477026 ]]))"
      ]
     },
     "execution_count": 11,
     "metadata": {},
     "output_type": "execute_result"
    }
   ],
   "source": [
    "# 2) Собственные значения и векторы\n",
    "\n",
    "LA.eig(A)"
   ]
  },
  {
   "cell_type": "code",
   "execution_count": 12,
   "metadata": {},
   "outputs": [
    {
     "data": {
      "text/plain": [
       "11.999999999999947"
      ]
     },
     "execution_count": 12,
     "metadata": {},
     "output_type": "execute_result"
    }
   ],
   "source": [
    "# 3) Определитель\n",
    "\n",
    "LA.det(A)"
   ]
  },
  {
   "cell_type": "code",
   "execution_count": 13,
   "metadata": {},
   "outputs": [
    {
     "data": {
      "text/plain": [
       "1171.0126859149357"
      ]
     },
     "execution_count": 13,
     "metadata": {},
     "output_type": "execute_result"
    }
   ],
   "source": [
    "# 4) Число обусловленности\n",
    "\n",
    "LA.cond(A)"
   ]
  },
  {
   "cell_type": "markdown",
   "metadata": {},
   "source": [
    "**Задача 2**"
   ]
  },
  {
   "cell_type": "code",
   "execution_count": 70,
   "metadata": {},
   "outputs": [],
   "source": [
    "B = [[1, 2], [0, 2]]"
   ]
  },
  {
   "cell_type": "code",
   "execution_count": 71,
   "metadata": {},
   "outputs": [
    {
     "data": {
      "text/plain": [
       "4.0"
      ]
     },
     "execution_count": 71,
     "metadata": {},
     "output_type": "execute_result"
    }
   ],
   "source": [
    "# 1) 1-norm\n",
    "LA.norm(B, 1)"
   ]
  },
  {
   "cell_type": "code",
   "execution_count": 72,
   "metadata": {},
   "outputs": [
    {
     "name": "stdout",
     "output_type": "stream",
     "text": [
      "4\n"
     ]
    }
   ],
   "source": [
    "#Checking:\n",
    "print(max(1 + 0, 2 + 2))"
   ]
  },
  {
   "cell_type": "code",
   "execution_count": 73,
   "metadata": {},
   "outputs": [],
   "source": [
    "# 2) 2-norm"
   ]
  },
  {
   "cell_type": "code",
   "execution_count": 74,
   "metadata": {},
   "outputs": [
    {
     "data": {
      "text/plain": [
       "2.9208096264818897"
      ]
     },
     "execution_count": 74,
     "metadata": {},
     "output_type": "execute_result"
    }
   ],
   "source": [
    "LA.norm(B, 2)"
   ]
  },
  {
   "cell_type": "code",
   "execution_count": 88,
   "metadata": {},
   "outputs": [
    {
     "name": "stdout",
     "output_type": "stream",
     "text": [
      "2.9208096264818897\n"
     ]
    }
   ],
   "source": [
    "#Checking:\n",
    "import math\n",
    "\n",
    "# С видео-лекции: 2-норма - максимум среди сингулярных чисел матрицы\n",
    "evals, evecs = LA.eig(B)\n",
    "uu, ss, vv = LA.svd(B)\n",
    "print(max(ss))"
   ]
  },
  {
   "cell_type": "code",
   "execution_count": 76,
   "metadata": {},
   "outputs": [
    {
     "data": {
      "text/plain": [
       "3.0"
      ]
     },
     "execution_count": 76,
     "metadata": {},
     "output_type": "execute_result"
    }
   ],
   "source": [
    "# 3) inf-norm\n",
    "LA.norm(B, np.inf)"
   ]
  },
  {
   "cell_type": "code",
   "execution_count": 77,
   "metadata": {},
   "outputs": [
    {
     "name": "stdout",
     "output_type": "stream",
     "text": [
      "3\n"
     ]
    }
   ],
   "source": [
    "#Checking:\n",
    "print(max(1 + 2, 0 + 2))"
   ]
  },
  {
   "cell_type": "markdown",
   "metadata": {},
   "source": [
    "**Задача 3**"
   ]
  },
  {
   "cell_type": "code",
   "execution_count": 54,
   "metadata": {},
   "outputs": [],
   "source": [
    "B = [[7, 2, -5], [-9, 8, -5], [24, -6, 8]]"
   ]
  },
  {
   "cell_type": "code",
   "execution_count": 55,
   "metadata": {},
   "outputs": [],
   "source": [
    "u, s, v = np.linalg.svd(B)"
   ]
  },
  {
   "cell_type": "code",
   "execution_count": 56,
   "metadata": {},
   "outputs": [
    {
     "name": "stdout",
     "output_type": "stream",
     "text": [
      "[[-0.14943848 -0.85524101 -0.49621665]\n",
      " [ 0.41476859 -0.50978439  0.75371539]\n",
      " [-0.89757181 -0.09318099  0.43090851]] [28.91006204  8.80482678  3.26853761] [[-0.91043423  0.29071894 -0.29426519]\n",
      " [-0.41283849 -0.59395503  0.69049388]\n",
      " [ 0.02595936  0.75013327  0.66077696]]\n"
     ]
    }
   ],
   "source": [
    "print(u, s, v)"
   ]
  },
  {
   "cell_type": "markdown",
   "metadata": {},
   "source": [
    "**Самостоятельная реализация алгоритма сингулярного разложения**"
   ]
  },
  {
   "cell_type": "code",
   "execution_count": 57,
   "metadata": {},
   "outputs": [],
   "source": [
    "# 1) B = u * s * v. Find \"u\"\n",
    "W = B @ np.transpose(B)\n",
    "\n",
    "# find eigenvectors and eigenvalues\n",
    "evalues, evectors = LA.eig(W)\n",
    "\n",
    "I = [[1, 0, 0], [0, 1, 0], [0, 0, 1]]\n",
    "W_new = np.array(W) - evalues[0] * np.array(I)\n",
    "\n",
    "#We have W_new * x = 0. Solve it:\n",
    "b1 = [0, 0, 0]\n",
    "x_1 = LA.solve(W_new, b1)"
   ]
  },
  {
   "cell_type": "code",
   "execution_count": 58,
   "metadata": {},
   "outputs": [],
   "source": [
    "# We put evectors into the columns of \"u\"\n",
    "u = evectors"
   ]
  },
  {
   "cell_type": "code",
   "execution_count": 66,
   "metadata": {},
   "outputs": [],
   "source": [
    "# Practically the same we do to find \"v\"\n",
    "W_2 = np.transpose(B) @ B\n",
    "evalues_2, evectors_2 = LA.eig(W_2)\n",
    "v_star = evectors_2\n",
    "v = LA.inv(v_star)"
   ]
  },
  {
   "cell_type": "code",
   "execution_count": 67,
   "metadata": {},
   "outputs": [],
   "source": [
    "#find s\n",
    "s = [[math.sqrt(evalues[0]), 0, 0], [0, math.sqrt(evalues[1]), 0], [0, 0, math.sqrt(evalues[2])]]"
   ]
  },
  {
   "cell_type": "code",
   "execution_count": 68,
   "metadata": {},
   "outputs": [
    {
     "name": "stdout",
     "output_type": "stream",
     "text": [
      "[[-0.14943848  0.85524101 -0.49621665]\n",
      " [ 0.41476859  0.50978439  0.75371539]\n",
      " [-0.89757181  0.09318099  0.43090851]] [[28.91006204293315, 0, 0], [0, 8.804826777354561, 0], [0, 0, 3.2685376079428288]] [[ 0.91043423 -0.29071894  0.29426519]\n",
      " [-0.41283849 -0.59395503  0.69049388]\n",
      " [ 0.02595936  0.75013327  0.66077696]]\n"
     ]
    }
   ],
   "source": [
    "print(u, s, v)"
   ]
  },
  {
   "cell_type": "code",
   "execution_count": null,
   "metadata": {},
   "outputs": [],
   "source": []
  }
 ],
 "metadata": {
  "kernelspec": {
   "display_name": "Python 3",
   "language": "python",
   "name": "python3"
  },
  "language_info": {
   "codemirror_mode": {
    "name": "ipython",
    "version": 3
   },
   "file_extension": ".py",
   "mimetype": "text/x-python",
   "name": "python",
   "nbconvert_exporter": "python",
   "pygments_lexer": "ipython3",
   "version": "3.7.1"
  }
 },
 "nbformat": 4,
 "nbformat_minor": 2
}
