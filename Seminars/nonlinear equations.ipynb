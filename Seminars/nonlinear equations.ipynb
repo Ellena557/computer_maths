{
 "cells": [
  {
   "cell_type": "markdown",
   "metadata": {},
   "source": [
    "<h2> Численное решение нелинейных уравнений"
   ]
  },
  {
   "cell_type": "code",
   "execution_count": 3,
   "metadata": {},
   "outputs": [],
   "source": [
    "import numpy as np\n",
    "from scipy import linalg as LA\n",
    "import math\n",
    "import matplotlib.pyplot as plt"
   ]
  },
  {
   "cell_type": "markdown",
   "metadata": {},
   "source": [
    "<h2> Задание 1"
   ]
  },
  {
   "cell_type": "markdown",
   "metadata": {},
   "source": [
    "Методом деления отрезка пополам найдите корни уравнения $e^{-x}-1+\\sin(x)=0$ c точностью $10^{-3}$."
   ]
  },
  {
   "cell_type": "code",
   "execution_count": 2,
   "metadata": {},
   "outputs": [],
   "source": [
    "# точность\n",
    "eps_1 = 0.001"
   ]
  },
  {
   "cell_type": "code",
   "execution_count": 3,
   "metadata": {},
   "outputs": [],
   "source": [
    "# функция\n",
    "def func_1(x):\n",
    "    res = np.exp(0 - x) - 1 + np.sin(x)\n",
    "    return res"
   ]
  },
  {
   "cell_type": "code",
   "execution_count": 8,
   "metadata": {},
   "outputs": [],
   "source": [
    "# поиск концов a, b - где f принимает противоположные знаки\n",
    "# работает именно для данной задачи, так как, очевидно при x<0 значения положительны, а при некотором x*>0 становятся отрицательными\n",
    "def get_contr_a_b(f, a = -1, b = 1):\n",
    "    #a = - 1   # можно взять любое a<0, так как f(x)>0 для x<0 в нашей задаче    \n",
    "    #b = 1 - тоже модем взять любое положительное приближение\n",
    "    while (f(a) * f(b) >= 0):\n",
    "        #a -= 0.1\n",
    "        b += 0.1\n",
    "    return a, b"
   ]
  },
  {
   "cell_type": "code",
   "execution_count": 9,
   "metadata": {},
   "outputs": [
    {
     "name": "stdout",
     "output_type": "stream",
     "text": [
      "a = -1  b = 2.100000000000001\n"
     ]
    }
   ],
   "source": [
    "a0, b0 = get_contr_a_b(func_1)\n",
    "print(\"a =\", a0, \" b =\", b0)"
   ]
  },
  {
   "cell_type": "code",
   "execution_count": 10,
   "metadata": {},
   "outputs": [],
   "source": [
    "def solve_method(f, a, b, tol):\n",
    "    res = 0\n",
    "    m = (a + b) / 2\n",
    "    if (abs(f(b) - f(a)) < tol):\n",
    "        return m     # вообще можем тут вернуть любую точку отрезка [a,b], я возвращаю серидину\n",
    "    else:\n",
    "        if (f(a)* f(m) < 0):\n",
    "            return solve_method(f, a, m, tol)\n",
    "        if (f(m) * f(b) < 0):\n",
    "            return solve_method(f, m, b, tol)"
   ]
  },
  {
   "cell_type": "code",
   "execution_count": 12,
   "metadata": {},
   "outputs": [
    {
     "name": "stdout",
     "output_type": "stream",
     "text": [
      "Найденное решение:  2.0765380859375013\n"
     ]
    }
   ],
   "source": [
    "print(\"Найденное решение: \", solve_method(func_1, a0, b0, eps_1))"
   ]
  },
  {
   "cell_type": "markdown",
   "metadata": {},
   "source": [
    "Подставив это значение, поймем, что это действительно приближенное решение уравнения. \n",
    "\n",
    "К слову, этот метод очень сильно зависит от начального отрезка (что очевидно, так как мы ищем решение именно внутри него). Так, при другом выборе начального отрезка мы получим совсем другое решение:"
   ]
  },
  {
   "cell_type": "code",
   "execution_count": 13,
   "metadata": {},
   "outputs": [
    {
     "name": "stdout",
     "output_type": "stream",
     "text": [
      "a = 7.7  b = 7.85\n",
      "Другое найденное решение:  7.83125\n"
     ]
    }
   ],
   "source": [
    "a01, b01 = get_contr_a_b(func_1, a = 7.7, b = 7.75)\n",
    "print(\"a =\", a01, \" b =\", b01)\n",
    "print(\"Другое найденное решение: \", solve_method(func_1, a01, b01, eps_1))"
   ]
  },
  {
   "cell_type": "markdown",
   "metadata": {},
   "source": [
    "Как мы видим, решение мы нашли совсем другое. "
   ]
  },
  {
   "cell_type": "markdown",
   "metadata": {},
   "source": [
    "<h2> Задание 2"
   ]
  },
  {
   "cell_type": "markdown",
   "metadata": {},
   "source": [
    "Определить число отрицательных корней многочлена $f(x)=32x^{3}+20x^{2}-11x+3$, указать для одного из них такой отрезок локализации, на котором выполняются условия теоремы о сходимости метода Ньютона, указать нулевое начальное приближение и оценить число итераций необходимых для достижения заданной точности $\\epsilon = 10^{-3}$."
   ]
  },
  {
   "cell_type": "code",
   "execution_count": 15,
   "metadata": {},
   "outputs": [],
   "source": [
    "eps_2 = 0.001"
   ]
  },
  {
   "cell_type": "code",
   "execution_count": 50,
   "metadata": {},
   "outputs": [],
   "source": [
    "def func_2(x):\n",
    "    res = 32 * x**3 + 20 * x**2 - 11 * x + 3\n",
    "    return res"
   ]
  },
  {
   "cell_type": "code",
   "execution_count": 16,
   "metadata": {},
   "outputs": [],
   "source": [
    "def func_2_der1(x):\n",
    "    return 96 * x**2 + 40 * x - 11\n",
    "\n",
    "def func_2_der2(x):\n",
    "    return 8 * (24 * x + 5)\n",
    "\n",
    "def func_2_der3(x):\n",
    "    return 192"
   ]
  },
  {
   "cell_type": "markdown",
   "metadata": {},
   "source": [
    "Всего данное уравнение (так как оно степнеи 3) имеет три корня: один из них будет отрицательный (около -1), также будет 2 комплексных корня."
   ]
  },
  {
   "cell_type": "code",
   "execution_count": 22,
   "metadata": {},
   "outputs": [],
   "source": [
    "# условие сходимости метода Ньютона: |f'(x)|<1\n",
    "def is_newton_ok(f1, a, b):\n",
    "    xes = np.linspace(a, b, 10000)\n",
    "    is_ok = True\n",
    "    for x in xes:\n",
    "        if(abs(f1(x)) >= 1):\n",
    "            is_ok = False\n",
    "    return is_ok"
   ]
  },
  {
   "cell_type": "code",
   "execution_count": 38,
   "metadata": {},
   "outputs": [
    {
     "data": {
      "text/plain": [
       "False"
      ]
     },
     "execution_count": 38,
     "metadata": {},
     "output_type": "execute_result"
    }
   ],
   "source": [
    "is_newton_ok(func_2_der1, -2, -0.1)"
   ]
  },
  {
   "cell_type": "code",
   "execution_count": 39,
   "metadata": {},
   "outputs": [],
   "source": [
    "# ищем, где будет выполняться:\n",
    "def find_sides(f1, a, b):\n",
    "    while abs(f1(a) >= 1):\n",
    "        a = a + 0.005\n",
    "        #find_sides(f1, a, b)\n",
    "    while(abs(f1(b)) >= 1):\n",
    "        b -= 0.005\n",
    "        #find_sides(f1, a, b)\n",
    "    return a, b"
   ]
  },
  {
   "cell_type": "code",
   "execution_count": 40,
   "metadata": {},
   "outputs": [
    {
     "name": "stdout",
     "output_type": "stream",
     "text": [
      "Отрезок локализации: [ -0.6149999999999997 -0.5950000000000001 ]\n",
      "True\n"
     ]
    }
   ],
   "source": [
    "aa, bb = find_sides(func_2_der1, -1, -0.5)\n",
    "print(\"Отрезок локализации: [\", aa, bb, \"]\")\n",
    "\n",
    "print(is_newton_ok(func_2_der1, aa, bb))"
   ]
  },
  {
   "cell_type": "code",
   "execution_count": 58,
   "metadata": {},
   "outputs": [],
   "source": [
    "# шаг метода Ньютона: возьму слагаемое только с первой производной\n",
    "def newton_step(f, f1, f2, f3, x):\n",
    "    res = x - f(x)/f1(x) #- (f2(x)*f(x)*f(x))/(2*f1(x) **3) - (f2(x)**2 * f(x)**3)/(2*f1(x)**3) + (f3(x) *f(x)**3)/(6 * f1(x)**4)\n",
    "    return res"
   ]
  },
  {
   "cell_type": "code",
   "execution_count": 59,
   "metadata": {},
   "outputs": [],
   "source": [
    "def solve_newton(f, f1, f2, f3, x, tol):\n",
    "    iters = 0\n",
    "    x_prev = x + 2 * tol # просто чтобы не остановиться на первом же шаге\n",
    "    while(abs(x - x_prev) > tol):\n",
    "        x_prev = x\n",
    "        x = newton_step(f, f1, f2, f3, x)\n",
    "        iters += 1\n",
    "    return x, iters"
   ]
  },
  {
   "cell_type": "code",
   "execution_count": 60,
   "metadata": {},
   "outputs": [],
   "source": [
    "solution2, num_iters = solve_newton(func_2, func_2_der1, func_2_der2, func_2_der3, -0.614, eps_2)"
   ]
  },
  {
   "cell_type": "code",
   "execution_count": 61,
   "metadata": {},
   "outputs": [
    {
     "name": "stdout",
     "output_type": "stream",
     "text": [
      "Решение:  -1.0414868358533398\n",
      "Число итераций: 12\n"
     ]
    }
   ],
   "source": [
    "print(\"Решение: \", solution2)\n",
    "print('Число итераций:', num_iters)"
   ]
  },
  {
   "cell_type": "markdown",
   "metadata": {},
   "source": [
    "Итак, за 12 итераций мы сошлись к отрицательному решению с нужной точностью (за начальное приближение я брала $0.0614$)."
   ]
  },
  {
   "cell_type": "markdown",
   "metadata": {},
   "source": [
    "<h2> Задание 3"
   ]
  },
  {
   "cell_type": "markdown",
   "metadata": {},
   "source": [
    "Уравнение $e^{x} = 3x^{2}$ среди своих корней имеет корень $x^{*}=0.91$. Для нахождения корня предлагается использовать один из следующих методов простой итерации:\n",
    "    \n",
    "3.1 $x_{n+1} = 2\\ln(\\sqrt(3)x_{n})$\n",
    "\n",
    "3.2 $x_{n+1} = \\sqrt{(exp(x_{n})/3)}$\n",
    "\n",
    "3.3 $x_{n+1} = \\exp(x_{n})/(3x_{n})$\n",
    "\n",
    "3.4 $x_{n+1} = 3\\ln(\\sqrt(3)x_{n}) - x_{n}/2$\n",
    "\n",
    "Оцените скорость сходимости через оценку производной и оцените число итераций необходимых для достижения требуемой точности $\\varepsilon = 10^{-2}$."
   ]
  },
  {
   "cell_type": "code",
   "execution_count": 10,
   "metadata": {},
   "outputs": [],
   "source": [
    "eps_3 = 0.01"
   ]
  },
  {
   "cell_type": "code",
   "execution_count": 1,
   "metadata": {},
   "outputs": [],
   "source": [
    "def func_3(x):\n",
    "    res = np.exp(x) - 3 * x * x\n",
    "    return res"
   ]
  },
  {
   "cell_type": "markdown",
   "metadata": {},
   "source": [
    "Рассмотрим методы выше:\n",
    "\n",
    "3.1) $f(x) = 2\\ln(\\sqrt(3)x)$, тогда $f'(x) = \\dfrac{2}{x}$. У нас есть условие: $|f'(x)| < 1$, то есть $|\\dfrac{2}{x}| < 1$, но $\\dfrac{2}{0.91} = 2.1978$ - в этот диапазон не входит. Значит, этот метод не подходит, смотрим следующий.\n",
    "\n",
    "3.2) $f(x)=\\sqrt{(e^x/3)}$, тогда $f'(x) = \\dfrac{\\sqrt{e^x}}{\\sqrt{3}}$. У нас есть условие: $|f'(x)| < 1$, то есть $|\\dfrac{\\sqrt{e^x}}{\\sqrt{3}} |< 1$, тогда $\\dfrac{\\sqrt{e^{0.91}}}{\\sqrt{3}} = 0.91 < 1$ - в этот диапазон входит. Значит, этот метод можем использовать. \n",
    "\n",
    "\n",
    "3.3) $f(x) = e^x/(3x)$, тогда $f'(x) = \\dfrac{e^x (x - 1)}{3 x^2}$. У нас есть условие: $|f'(x)| < 1$, то есть $|\\dfrac{e^x (x - 1)}{3 x^2}|<1$, тогда $\\dfrac{e^{0.91} (0.91 - 1)}{3 \\cdot 0.91^2} = -0.09$ - в этот диапазон входит. Значит, этот метод можем использовать. \n",
    "\n",
    "3.4) $f(x) = 3\\ln(\\sqrt(3)x) - x/2$, тогда $f'(x) = \\dfrac{3}{x} - \\dfrac{1}{2}$. У нас есть условие: $|f'(x)| < 1$, то есть $|\\dfrac{3}{x} - \\dfrac{1}{2}|<1$, но $\\dfrac{3}{0.91} - \\dfrac{1}{2} = 2.797 > 1$ - в этот диапазон не входит. Значит, этот метод не подходит."
   ]
  },
  {
   "cell_type": "markdown",
   "metadata": {},
   "source": [
    "Итак, нам подходят только 2-й и 3-й методы (у них линейная скорость сходимости). Рассмотрим их:"
   ]
  },
  {
   "cell_type": "code",
   "execution_count": 7,
   "metadata": {},
   "outputs": [],
   "source": [
    "def func_met2(x):\n",
    "    return np.sqrt(np.exp(x) / 3)\n",
    "\n",
    "def func_met3(x):\n",
    "    return np.exp(x) / (3 * x)"
   ]
  },
  {
   "cell_type": "code",
   "execution_count": 13,
   "metadata": {},
   "outputs": [],
   "source": [
    "def solve_mpi(y_func, method_func, x, tol):\n",
    "    # y_func: какое уравнение решаем\n",
    "    # method_func: функция из метода\n",
    "    # х0: начальное приближение\n",
    "    iters = 0\n",
    "    x_prev = x + 2 * tol # просто чтобы сразу не остановиться\n",
    "    \n",
    "    while(abs(y_func(x) - y_func(x_prev)) > tol):\n",
    "        x_prev = x\n",
    "        x = method_func(x)\n",
    "        iters += 1\n",
    "        \n",
    "    return x, iters"
   ]
  },
  {
   "cell_type": "markdown",
   "metadata": {},
   "source": [
    "В качестве начальной точки в обоих случаях возьму 1."
   ]
  },
  {
   "cell_type": "code",
   "execution_count": 16,
   "metadata": {},
   "outputs": [
    {
     "name": "stdout",
     "output_type": "stream",
     "text": [
      "Решение при помощи функции метода 2:  0.9118362136581822\n",
      "Сошлись за  5  шагов.\n"
     ]
    }
   ],
   "source": [
    "ss2, ii2 = solve_mpi(func_3, func_met2, 1, eps_3)\n",
    "print(\"Решение при помощи функции метода 2: \", ss2)\n",
    "print(\"Сошлись за \", ii2, \" шагов.\")"
   ]
  },
  {
   "cell_type": "code",
   "execution_count": 17,
   "metadata": {},
   "outputs": [
    {
     "name": "stdout",
     "output_type": "stream",
     "text": [
      "Решение при помощи функции метода 3:  0.9099751835195202\n",
      "Сошлись за  3  шагов.\n"
     ]
    }
   ],
   "source": [
    "ss3, ii3 = solve_mpi(func_3, func_met3, 1, eps_3)\n",
    "print(\"Решение при помощи функции метода 3: \", ss3)\n",
    "print(\"Сошлись за \", ii3, \" шагов.\")"
   ]
  },
  {
   "cell_type": "markdown",
   "metadata": {},
   "source": [
    "При другом начальном приближении сходиться можем дольше:"
   ]
  },
  {
   "cell_type": "code",
   "execution_count": 25,
   "metadata": {},
   "outputs": [
    {
     "name": "stdout",
     "output_type": "stream",
     "text": [
      "Решение при помощи функции метода 2:  0.9102866821699753\n",
      "Сошлись за  4  шагов.\n"
     ]
    }
   ],
   "source": [
    "ss4, ii4 = solve_mpi(func_3, func_met3, 2.2, eps_3)\n",
    "print(\"Решение при помощи функции метода 2: \", ss4)\n",
    "print(\"Сошлись за \", ii4, \" шагов.\")"
   ]
  }
 ],
 "metadata": {
  "kernelspec": {
   "display_name": "Python 3",
   "language": "python",
   "name": "python3"
  },
  "language_info": {
   "codemirror_mode": {
    "name": "ipython",
    "version": 3
   },
   "file_extension": ".py",
   "mimetype": "text/x-python",
   "name": "python",
   "nbconvert_exporter": "python",
   "pygments_lexer": "ipython3",
   "version": "3.7.1"
  }
 },
 "nbformat": 4,
 "nbformat_minor": 2
}
