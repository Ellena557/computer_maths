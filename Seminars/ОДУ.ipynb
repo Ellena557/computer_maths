{
 "cells": [
  {
   "cell_type": "markdown",
   "metadata": {},
   "source": [
    "<h2> Численное ОДУ"
   ]
  },
  {
   "cell_type": "code",
   "execution_count": 1,
   "metadata": {},
   "outputs": [],
   "source": [
    "import numpy as np\n",
    "from scipy import linalg as LA\n",
    "import math\n",
    "import matplotlib.pyplot as plt"
   ]
  },
  {
   "cell_type": "markdown",
   "metadata": {},
   "source": [
    "<h2> Задание 1"
   ]
  },
  {
   "cell_type": "markdown",
   "metadata": {},
   "source": [
    "Решите уравнение:\n",
    "$$\n",
    "\\frac{d u}{d t} = \\lambda u\n",
    "$$\n",
    "\n",
    "с начальным условием $u(t=0) = u_0$ явным методом Эйлера (с различным шагом  $\\tau$, включая случай $|\\lambda| \\tau > 1$). Считайте, что $u_{0}=1$. Рассмотрите произвольные значения $\\lambda$ от 0.1 до 100."
   ]
  },
  {
   "cell_type": "markdown",
   "metadata": {},
   "source": [
    "Явная схема Эйлера:\n",
    "\n",
    "$\\dfrac{y_{n+1}-y_n}{\\tau} = f(t_n, y_n) = \\lambda y_n$\n",
    "\n",
    "$y_{n+1} = \\tau \\lambda y_n + y_n = y_n(1+\\tau \\lambda)$"
   ]
  },
  {
   "cell_type": "code",
   "execution_count": 12,
   "metadata": {},
   "outputs": [],
   "source": [
    "# 10 случайных значений\n",
    "lamdas = np.random.uniform(0.1, 100, 10)\n",
    "\n",
    "# потому что сгенерирует, скорее всего, большие числа, итого 11 значений\n",
    "lamdas = np.append(lamdas, 0.1)"
   ]
  },
  {
   "cell_type": "code",
   "execution_count": 13,
   "metadata": {},
   "outputs": [
    {
     "data": {
      "text/plain": [
       "array([37.276225  ,  1.3878437 , 56.75248516, 99.45755035, 38.34133749,\n",
       "       32.83555496, 81.31367967, 12.28541926, 66.20323663, 84.01946343,\n",
       "        0.1       ])"
      ]
     },
     "execution_count": 13,
     "metadata": {},
     "output_type": "execute_result"
    }
   ],
   "source": [
    "lamdas"
   ]
  },
  {
   "cell_type": "code",
   "execution_count": 17,
   "metadata": {},
   "outputs": [],
   "source": [
    "def find_solution1(tau, lamb):\n",
    "    eps = 1e-2\n",
    "    y = 1\n",
    "    y_prev = 2 # просто чтобы не остановиться сразу\n",
    "    while(abs(y-y_prev) > eps):\n",
    "        y_prev = y\n",
    "        y = y * (1 + tau * lamb)\n",
    "    return y"
   ]
  },
  {
   "cell_type": "code",
   "execution_count": 20,
   "metadata": {},
   "outputs": [
    {
     "name": "stdout",
     "output_type": "stream",
     "text": [
      "tau =  0.0001  lambda =  37.27622500067155  Solution:  1.003727622500067\n",
      "tau =  0.0001  lambda =  1.3878436970813215  Solution:  1.000138784369708\n",
      "tau =  0.0001  lambda =  56.75248515708388  Solution:  1.0056752485157083\n",
      "tau =  0.0001  lambda =  99.45755035225588  Solution:  1.0099457550352255\n",
      "tau =  0.0001  lambda =  38.341337487509826  Solution:  1.003834133748751\n",
      "tau =  0.0001  lambda =  32.83555496225057  Solution:  1.0032835554962252\n",
      "tau =  0.0001  lambda =  81.31367966652128  Solution:  1.0081313679666521\n",
      "tau =  0.0001  lambda =  12.28541925843162  Solution:  1.001228541925843\n",
      "tau =  0.0001  lambda =  66.20323663038467  Solution:  1.0066203236630384\n",
      "tau =  0.0001  lambda =  84.01946342598993  Solution:  1.008401946342599\n",
      "tau =  0.0001  lambda =  0.1  Solution:  1.00001\n"
     ]
    }
   ],
   "source": [
    "tau = 0.0001\n",
    "for l in lamdas:\n",
    "    print(\"tau = \", tau, \" lambda = \", l, \" Solution: \", find_solution1(tau, l))"
   ]
  },
  {
   "cell_type": "code",
   "execution_count": 22,
   "metadata": {},
   "outputs": [
    {
     "name": "stdout",
     "output_type": "stream",
     "text": [
      "tau =  1e-05  lambda =  37.27622500067155  Solution:  1.0003727622500067\n",
      "tau =  1e-05  lambda =  1.3878436970813215  Solution:  1.0000138784369708\n",
      "tau =  1e-05  lambda =  56.75248515708388  Solution:  1.0005675248515709\n",
      "tau =  1e-05  lambda =  99.45755035225588  Solution:  1.0009945755035226\n",
      "tau =  1e-05  lambda =  38.341337487509826  Solution:  1.000383413374875\n",
      "tau =  1e-05  lambda =  32.83555496225057  Solution:  1.0003283555496225\n",
      "tau =  1e-05  lambda =  81.31367966652128  Solution:  1.0008131367966653\n",
      "tau =  1e-05  lambda =  12.28541925843162  Solution:  1.0001228541925844\n",
      "tau =  1e-05  lambda =  66.20323663038467  Solution:  1.0006620323663038\n",
      "tau =  1e-05  lambda =  84.01946342598993  Solution:  1.00084019463426\n",
      "tau =  1e-05  lambda =  0.1  Solution:  1.000001\n"
     ]
    }
   ],
   "source": [
    "tau = 0.00001\n",
    "for l in lamdas:\n",
    "    print(\"tau = \", tau, \" lambda = \", l, \" Solution: \", find_solution1(tau, l))"
   ]
  },
  {
   "cell_type": "code",
   "execution_count": 33,
   "metadata": {},
   "outputs": [
    {
     "name": "stdout",
     "output_type": "stream",
     "text": [
      "tau =  0.1  lambda =  80  Solution:  inf\n"
     ]
    }
   ],
   "source": [
    "# В нашем случае если |lambda|*tau>1, то каждый yвеличивается более чем в 2 раза, расходимся:\n",
    "print(\"tau = \", 0.1, \" lambda = \", 80, \" Solution: \", find_solution1(0.1, 80))"
   ]
  },
  {
   "cell_type": "markdown",
   "metadata": {},
   "source": [
    "<h2> Задание 2"
   ]
  },
  {
   "cell_type": "markdown",
   "metadata": {},
   "source": [
    "Решите уравнение:\n",
    "$$\n",
    "\\frac{d u}{d t} = \\lambda u\n",
    "$$\n",
    "\n",
    "с начальным условием $u(t=0) = u_0$ неявным методом Эйлера (с различным шагом  $\\tau$, включая случай $|\\lambda| \\tau > 1$). Сравните результаты с результатами для явного метода Эйлера."
   ]
  },
  {
   "cell_type": "markdown",
   "metadata": {},
   "source": [
    "Явная схема Эйлера:\n",
    "\n",
    "$\\dfrac{y_{n+1}-y_n}{\\tau} = f(t_n, y_n) = \\lambda y_{n+1}$\n",
    "\n",
    "$y_{n+1} (1 - \\tau \\lambda ) =y_n $\n",
    "\n",
    "$y_{n+1} = \\dfrac{y_n}{1 - \\tau \\lambda}$"
   ]
  },
  {
   "cell_type": "code",
   "execution_count": 24,
   "metadata": {},
   "outputs": [],
   "source": [
    "# 10 случайных значений\n",
    "lamdas = np.random.uniform(0.1, 100, 10)\n",
    "\n",
    "# потому что сгенерирует, скорее всего, большие числа, итого 11 значений\n",
    "lamdas = np.append(lamdas, 0.1)"
   ]
  },
  {
   "cell_type": "code",
   "execution_count": 25,
   "metadata": {},
   "outputs": [],
   "source": [
    "def find_solution2(tau, lamb):\n",
    "    eps = 1e-2\n",
    "    y = 1\n",
    "    y_prev = 2 # просто чтобы не остановиться сразу\n",
    "    while(abs(y-y_prev) > eps):\n",
    "        y_prev = y\n",
    "        y = y / (1 - tau * lamb)\n",
    "    return y"
   ]
  },
  {
   "cell_type": "code",
   "execution_count": 28,
   "metadata": {},
   "outputs": [
    {
     "name": "stdout",
     "output_type": "stream",
     "text": [
      "tau =  0.0001  lambda =  36.233470540981706  Solution:  1.0036365234405937\n",
      "tau =  0.0001  lambda =  54.46723932672665  Solution:  1.0054765532060888\n",
      "tau =  0.0001  lambda =  57.35089999762182  Solution:  1.0057681709794635\n",
      "tau =  0.0001  lambda =  12.81548165451193  Solution:  1.0012831926386232\n",
      "tau =  0.0001  lambda =  22.769773898825257  Solution:  1.0022821738481345\n",
      "tau =  0.0001  lambda =  0.273381881078379  Solution:  1.0000273389355048\n",
      "tau =  0.0001  lambda =  94.4656598023507  Solution:  1.0095366546173081\n",
      "tau =  0.0001  lambda =  76.16184521810166  Solution:  1.0076746359654607\n",
      "tau =  0.0001  lambda =  11.461845924982674  Solution:  1.0011474998391339\n",
      "tau =  0.0001  lambda =  58.113273908631406  Solution:  1.005845296321484\n",
      "tau =  0.0001  lambda =  0.1  Solution:  1.000010000100001\n"
     ]
    }
   ],
   "source": [
    "tau = 0.0001\n",
    "for l in lamdas:\n",
    "    print(\"tau = \", tau, \" lambda = \", l, \" Solution: \", find_solution2(tau, l))"
   ]
  },
  {
   "cell_type": "code",
   "execution_count": 29,
   "metadata": {},
   "outputs": [
    {
     "name": "stdout",
     "output_type": "stream",
     "text": [
      "tau =  1e-05  lambda =  36.233470540981706  Solution:  1.0003624660394355\n",
      "tau =  1e-05  lambda =  54.46723932672665  Solution:  1.0005449692229582\n",
      "tau =  1e-05  lambda =  57.35089999762182  Solution:  1.0005738381012919\n",
      "tau =  1e-05  lambda =  12.81548165451193  Solution:  1.0001281712423071\n",
      "tau =  1e-05  lambda =  22.769773898825257  Solution:  1.0002277495970566\n",
      "tau =  1e-05  lambda =  0.273381881078379  Solution:  1.0000027338262845\n",
      "tau =  1e-05  lambda =  94.4656598023507  Solution:  1.0009455498178976\n",
      "tau =  1e-05  lambda =  76.16184521810166  Solution:  1.0007621989569708\n",
      "tau =  1e-05  lambda =  11.461845924982674  Solution:  1.000114631598147\n",
      "tau =  1e-05  lambda =  58.113273908631406  Solution:  1.0005814706507183\n",
      "tau =  1e-05  lambda =  0.1  Solution:  1.000001000001\n"
     ]
    }
   ],
   "source": [
    "tau = 0.00001\n",
    "for l in lamdas:\n",
    "    print(\"tau = \", tau, \" lambda = \", l, \" Solution: \", find_solution2(tau, l))"
   ]
  },
  {
   "cell_type": "markdown",
   "metadata": {},
   "source": [
    "В целом, результаты очень похожи на те, что были получены в явном методе Эйлера. Время выполнения и полученные результаты довольно похожи."
   ]
  },
  {
   "cell_type": "code",
   "execution_count": 35,
   "metadata": {},
   "outputs": [
    {
     "name": "stdout",
     "output_type": "stream",
     "text": [
      "tau =  0.1  lambda =  80  Solution:  0.00041649312786339027\n"
     ]
    }
   ],
   "source": [
    "# В нашем случае если |lambda|*tau>1, то в отличие от явного метода, мы СОЙДЕМСЯ\n",
    "print(\"tau = \", 0.1, \" lambda = \", 80, \" Solution: \", find_solution2(0.1, 80))"
   ]
  },
  {
   "cell_type": "markdown",
   "metadata": {},
   "source": [
    "Но результат при этом получился не очень хороший."
   ]
  },
  {
   "cell_type": "markdown",
   "metadata": {},
   "source": [
    "<h2> Задание 3"
   ]
  },
  {
   "cell_type": "markdown",
   "metadata": {},
   "source": [
    "Рассмотрим уравнение, описывающее поведение маятника\n",
    "\n",
    "$$\n",
    "\\frac{d^2 u}{dt^2} + \\omega^2 u = 0\n",
    "$$\n",
    "\n",
    "Приведите это уравнение к системе дифференциальных уравнений 1-го порядка.\n",
    "\n",
    "3.1 Решите полученную систему уравнений с помощью явного метода Эйлера. \n",
    "\n",
    "3.2 Известно, что в уравнении движения маятника сохраняется энергия, т. е. \n",
    "\n",
    "$$\n",
    "E = \\frac{u'^2}{2} + \\frac{\\omega^2 u^2}{2}\n",
    "$$\n",
    "\n",
    "остаётся постоянной величиной. Постройте зависимость $E$ от времени для Вашего численного решения. Подтврждается ли сохранение энергии?\n",
    "\n",
    "3.3 Реализуйте метод Рунге–Кутты 2-го порядка. Сравните решения полученные этими методами (для различных шагов дискретизации расчётной сетки)."
   ]
  },
  {
   "cell_type": "markdown",
   "metadata": {},
   "source": [
    "Система дифференциальных уравнений 1-го порядка:\n",
    "\n",
    "\\begin{equation*}\n",
    " \\begin{cases}\n",
    "   \\dfrac{du}{dt} = v \n",
    "   \\\\\n",
    "   \\dfrac{dv}{dt} = - \\omega^2 u \n",
    " \\end{cases}\n",
    "\\end{equation*}"
   ]
  },
  {
   "cell_type": "markdown",
   "metadata": {},
   "source": [
    "**3.1**"
   ]
  },
  {
   "cell_type": "code",
   "execution_count": 54,
   "metadata": {},
   "outputs": [],
   "source": [
    "def solve_eyler(tau, omega):\n",
    "    u = 1\n",
    "    v = 1\n",
    "    u_prev = 10\n",
    "    v_prev = 10\n",
    "    eps = 1e-3\n",
    "    while(abs(u-u_prev) > eps or abs(v-v_prev) > eps):\n",
    "        u_prev = u\n",
    "        v_prev = v\n",
    "        u = u + tau * v\n",
    "        v = v + tau * omega * omega * u_prev\n",
    "    return u, v"
   ]
  },
  {
   "cell_type": "code",
   "execution_count": 55,
   "metadata": {},
   "outputs": [
    {
     "data": {
      "text/plain": [
       "(1.0001, 1.00000001)"
      ]
     },
     "execution_count": 55,
     "metadata": {},
     "output_type": "execute_result"
    }
   ],
   "source": [
    "solve_eyler(0.0001, 0.01)"
   ]
  },
  {
   "cell_type": "markdown",
   "metadata": {},
   "source": [
    "**3.2**"
   ]
  },
  {
   "cell_type": "code",
   "execution_count": 70,
   "metadata": {},
   "outputs": [],
   "source": [
    "def get_E(t, omega):\n",
    "    u, v = solve_eyler(t, omega)\n",
    "    E = 0.5 * v**2 + 0.5 * u**2 * omega**2\n",
    "    return E"
   ]
  },
  {
   "cell_type": "code",
   "execution_count": 78,
   "metadata": {},
   "outputs": [
    {
     "name": "stdout",
     "output_type": "stream",
     "text": [
      "0.5000500200004999\n",
      "0.5001653553735543\n",
      "0.5003476596728992\n",
      "0.5005969328985361\n",
      "0.5009131750504672\n",
      "0.5012963861286948\n",
      "0.501746566133222\n",
      "0.5022637150640528\n",
      "0.502847832921191\n",
      "0.5034989197046413\n",
      "0.5042169754144091\n",
      "0.5050020000505\n"
     ]
    }
   ],
   "source": [
    "tau = 0.0001\n",
    "E = []\n",
    "\n",
    "for omega in np.linspace(0.01, 0.1, 12):\n",
    "    # omega = 1/T\n",
    "    e = get_E(tau, omega)\n",
    "    print(e)\n",
    "    E.append(e)"
   ]
  },
  {
   "cell_type": "code",
   "execution_count": 81,
   "metadata": {},
   "outputs": [
    {
     "data": {
      "image/png": "[encoded data removed]",
      "text/plain": [
       "<Figure size 1080x432 with 1 Axes>"
      ]
     },
     "metadata": {
      "needs_background": "light"
     },
     "output_type": "display_data"
    }
   ],
   "source": [
    "omegas = np.linspace(0.01, 0.1, 12)\n",
    "plt.figure(figsize=(15, 6))\n",
    "plt.plot(1/omegas, E, color = 'blue', label = \"E\", linewidth = 1)\n",
    "plt.xlabel('t', fontsize=16)\n",
    "plt.ylabel('E', fontsize=16)\n",
    "plt.legend(fontsize=14)\n",
    "plt.ylim(0, 1)\n",
    "plt.show()"
   ]
  },
  {
   "cell_type": "markdown",
   "metadata": {},
   "source": [
    "Действительно, сохраняется."
   ]
  },
  {
   "cell_type": "markdown",
   "metadata": {},
   "source": [
    "**3.3**"
   ]
  },
  {
   "cell_type": "markdown",
   "metadata": {},
   "source": [
    "2-й порядок:\n",
    "\n",
    "$b_1c_1+b_2c_2=\\dfrac{1}{2}$\n",
    "\n",
    "$b_1+b_2=1$\n",
    "\n",
    "$c_1 = a_{11} + a_{12}$\n",
    "\n",
    "$c_2 = a_{21} + a_{22}$\n",
    "\n",
    "Считаем: $c_1 = 0$, $a_{11} = a_{12} = a_{22} = 0$,\n",
    "\n",
    "тогда имеем:\n",
    "\n",
    "$y_{n+1} = y_n + f(t_n +\\dfrac{h}{2}, y_n + \\dfrac{h}{2} f(t_n, y_n))$"
   ]
  },
  {
   "cell_type": "code",
   "execution_count": 82,
   "metadata": {},
   "outputs": [],
   "source": [
    "def solve_rk(t, h, omega):\n",
    "    u = 1\n",
    "    v = 1\n",
    "    u_prev = 10\n",
    "    v_prev = 10\n",
    "    eps = 1e-3\n",
    "    while(abs(u-u_prev) > eps or abs(v-v_prev) > eps):\n",
    "        u_prev = u\n",
    "        v_prev = v \n",
    "        u = u + v * h/2\n",
    "        v = v - omega**2 * (u * h/2)\n",
    "    return u, v"
   ]
  },
  {
   "cell_type": "code",
   "execution_count": 91,
   "metadata": {},
   "outputs": [
    {
     "data": {
      "text/plain": [
       "(1.0005, 0.999999949975)"
      ]
     },
     "execution_count": 91,
     "metadata": {},
     "output_type": "execute_result"
    }
   ],
   "source": [
    "solve_rk(0.001, 0.001, 0.01)"
   ]
  },
  {
   "cell_type": "code",
   "execution_count": 94,
   "metadata": {},
   "outputs": [],
   "source": [
    "def get_E2(t, h, omega):\n",
    "    u, v = solve_rk(t, h, omega)\n",
    "    E = 0.5 * v**2 + 0.5 * u**2 * omega**2\n",
    "    return E"
   ]
  },
  {
   "cell_type": "code",
   "execution_count": 95,
   "metadata": {},
   "outputs": [
    {
     "name": "stdout",
     "output_type": "stream",
     "text": [
      "0.5000499999875012\n",
      "0.5001652892148897\n",
      "0.5003475205743373\n",
      "0.5005966940658807\n",
      "0.50091280968957\n",
      "0.5012958674454686\n",
      "0.5017458673336536\n",
      "0.5022628093542156\n",
      "0.5028466935072583\n",
      "0.5034975197928994\n",
      "0.5042152882112693\n",
      "0.5049999987625124\n"
     ]
    }
   ],
   "source": [
    "tau = 0.0001\n",
    "E2 = []\n",
    "\n",
    "for omega in np.linspace(0.01, 0.1, 12):\n",
    "    # omega = 1/T\n",
    "    e = get_E2(tau, 0.001, omega)\n",
    "    print(e)\n",
    "    E2.append(e)"
   ]
  },
  {
   "cell_type": "markdown",
   "metadata": {},
   "source": [
    "Возьмем другой шаг:"
   ]
  },
  {
   "cell_type": "code",
   "execution_count": 96,
   "metadata": {},
   "outputs": [
    {
     "name": "stdout",
     "output_type": "stream",
     "text": [
      "0.5000499999875012\n",
      "0.5000499999875012\n",
      "0.5000499999875012\n",
      "0.5000499999875012\n",
      "0.5000499999875012\n",
      "0.5000499999875012\n",
      "0.5000499999875012\n",
      "0.5000499999875012\n",
      "0.5000499999875012\n",
      "0.5000499999875012\n",
      "0.5000499999875012\n",
      "0.5000499999875012\n"
     ]
    }
   ],
   "source": [
    "tau = 0.0001\n",
    "E2 = []\n",
    "\n",
    "for omega in np.linspace(0.01, 0.01, 12):\n",
    "    # omega = 1/T\n",
    "    e = get_E2(tau, 0.001, omega)\n",
    "    print(e)\n",
    "    E2.append(e)"
   ]
  },
  {
   "cell_type": "markdown",
   "metadata": {},
   "source": [
    "Так, с уменьшением шага, результаты стали еще более точными."
   ]
  },
  {
   "cell_type": "markdown",
   "metadata": {},
   "source": [
    "Результаты совпали с полученными в первой части."
   ]
  }
 ],
 "metadata": {
  "kernelspec": {
   "display_name": "Python 3",
   "language": "python",
   "name": "python3"
  },
  "language_info": {
   "codemirror_mode": {
    "name": "ipython",
    "version": 3
   },
   "file_extension": ".py",
   "mimetype": "text/x-python",
   "name": "python",
   "nbconvert_exporter": "python",
   "pygments_lexer": "ipython3",
   "version": "3.7.1"
  }
 },
 "nbformat": 4,
 "nbformat_minor": 2
}
