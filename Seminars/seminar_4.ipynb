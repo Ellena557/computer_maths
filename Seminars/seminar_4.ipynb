{
 "cells": [
  {
   "cell_type": "markdown",
   "metadata": {},
   "source": [
    "<h1> Семинар 4. Итерационные методы решения линейных систем\n"
   ]
  },
  {
   "cell_type": "markdown",
   "metadata": {},
   "source": [
    "<h3> Метод простой итерации"
   ]
  },
  {
   "cell_type": "markdown",
   "metadata": {},
   "source": [
    "Дана система линейных алгебраических уравнений (СЛАУ):\n",
    "\n",
    "$Ax = f$\n",
    "\n",
    "Систему можно переписать в виде:\n",
    "\n",
    "$x = (E -\\tau A)x + \\tau f$,\n",
    "\n",
    "где $(E -\\tau A)$ называется матрицей перехода.\n",
    "\n",
    "Тогда (k+1)-е приближение ищем по формуле:\n",
    "\n",
    "$x^{k+1} = (E -\\tau A)x^{k} + \\tau f$ или $x^{k+1} = Rx^{k} + F$"
   ]
  },
  {
   "cell_type": "markdown",
   "metadata": {},
   "source": [
    "<h4> Задание 1"
   ]
  },
  {
   "cell_type": "markdown",
   "metadata": {},
   "source": [
    "Дана система линейных алгербаических уравнений:\n",
    "\n",
    "\\begin{equation*}\n",
    "\\begin{cases}\n",
    "10x_{1} - x_{2} = 8 \\\\\n",
    "-x_{1} + 10x_{2} - x_{3}= 16  \\\\\n",
    "-x_{2} + 10x_{3} - x_{4}= 24  \\\\\n",
    "-x_{3} + 10x_{4} - x_{5}= 32 \\\\\n",
    "-x_{4} + 10x_{5} = 46 \\\\\n",
    " \\end{cases}\n",
    " \\end{equation*}\n",
    " \n",
    " При начальном приближении $\\vec{x^{0}} = (1,1,1,1,1)^{T}$"
   ]
  },
  {
   "cell_type": "markdown",
   "metadata": {},
   "source": [
    "1.1 Решите СЛАУ методом простой итерации.\n",
    "\n",
    "1.2 Постройте график зависимости погрешности решения от числа итераций.\n",
    "\n",
    "1.3 Найдите оптимальное число итераций. \n",
    "\n",
    "1.4 Оцените число итераций необходимое для достижения точности $10^{-4}$. \n",
    "\n",
    "1.5 Решите СЛАУ с помощью numpy.linalg.solve и сравните полученный ответ с решением этой системы для оптимального числа итераций."
   ]
  },
  {
   "cell_type": "markdown",
   "metadata": {},
   "source": [
    "**1.1**"
   ]
  },
  {
   "cell_type": "code",
   "execution_count": 30,
   "metadata": {},
   "outputs": [],
   "source": [
    "import numpy as np\n",
    "import matplotlib.pyplot as plt"
   ]
  },
  {
   "cell_type": "code",
   "execution_count": 60,
   "metadata": {},
   "outputs": [],
   "source": [
    "x = [1, 1, 1, 1, 1]\n",
    "A = [[10, -1, 0, 0, 0], [-1, 10, -1, 0, 0], [0, -1, 10, -1, 0], [0,0,-1,10,-1], [0,0,0,-1,10]]\n",
    "b = [8, 16, 24, 32, 46]\n",
    "eps = []\n",
    "\n",
    "lambda_min = min(np.linalg.eig(A)[0])\n",
    "lambda_max = max(np.linalg.eig(A)[0])\n",
    "tau = 2/(lambda_min + lambda_max)   #optimal tau"
   ]
  },
  {
   "cell_type": "code",
   "execution_count": 61,
   "metadata": {},
   "outputs": [],
   "source": [
    "def makeI(n):\n",
    "    # возвращает единичную матрицу размера n*n\n",
    "    \n",
    "    I = []\n",
    "    for i in range(n):\n",
    "        k = np.zeros(n)\n",
    "        k[i] = 1\n",
    "        I.append(k)\n",
    "    return np.array(I)\n",
    "\n",
    "E = makeI(5)\n",
    "A = np.array(A)\n",
    "R = (E - tau * A)\n",
    "b = np.array(b)\n",
    "F = tau * b\n",
    "\n",
    "norm_e0 = np.linalg.norm(R@x + F - x)\n",
    "q = np.linalg.norm(R)"
   ]
  },
  {
   "cell_type": "code",
   "execution_count": 62,
   "metadata": {},
   "outputs": [],
   "source": [
    "for i in range(100):\n",
    "    x = R@x + F\n",
    "    eps.append(norm_e0 * q**i)"
   ]
  },
  {
   "cell_type": "markdown",
   "metadata": {},
   "source": [
    "**1.2**"
   ]
  },
  {
   "cell_type": "code",
   "execution_count": 64,
   "metadata": {},
   "outputs": [
    {
     "data": {
      "image/png": "[encoded data removed]",
      "text/plain": [
       "<Figure size 936x432 with 1 Axes>"
      ]
     },
     "metadata": {
      "needs_background": "light"
     },
     "output_type": "display_data"
    }
   ],
   "source": [
    "plt.figure(figsize=(13, 6))\n",
    "n = np.arange(0, 100)\n",
    "plt.plot(eps, color='lawngreen', label=\"погрешность\", linewidth=1)\n",
    "plt.scatter(n, eps, color='lawngreen')\n",
    "plt.xlabel('итерация', fontsize=16)\n",
    "plt.ylabel('погрешность', fontsize=16)\n",
    "plt.legend(fontsize=19)\n",
    "plt.show()"
   ]
  },
  {
   "cell_type": "markdown",
   "metadata": {},
   "source": [
    "**1.3**"
   ]
  },
  {
   "cell_type": "code",
   "execution_count": 34,
   "metadata": {},
   "outputs": [],
   "source": [
    "for i in range(100):\n",
    "    x = R@x + F\n",
    "    eps.append(norm_e0 * q**i)\n",
    "    if (np.linalg.norm(eps) == 0): \n",
    "        print ('num of iterations: ', i)"
   ]
  },
  {
   "cell_type": "markdown",
   "metadata": {},
   "source": [
    "**1.5**"
   ]
  },
  {
   "cell_type": "code",
   "execution_count": 36,
   "metadata": {},
   "outputs": [
    {
     "name": "stdout",
     "output_type": "stream",
     "text": [
      "[1. 2. 3. 4. 5.]\n"
     ]
    }
   ],
   "source": [
    "x_theoretical = np.linalg.solve(A, b)\n",
    "print(x_theoretical)"
   ]
  },
  {
   "cell_type": "markdown",
   "metadata": {},
   "source": [
    "**1.4**"
   ]
  },
  {
   "cell_type": "code",
   "execution_count": 45,
   "metadata": {},
   "outputs": [
    {
     "name": "stdout",
     "output_type": "stream",
     "text": [
      "optimal iteration number:  9\n"
     ]
    }
   ],
   "source": [
    "need_eps = 0.0001\n",
    "\n",
    "k = int((np.log(need_eps/ norm_e0)) / (np.log(q))) + 1\n",
    "\n",
    "print(\"optimal iteration number: \", k)"
   ]
  },
  {
   "cell_type": "code",
   "execution_count": 46,
   "metadata": {},
   "outputs": [],
   "source": [
    "x=[1,1,1,1,1]\n",
    "eps = []\n",
    "\n",
    "for i in range(k):\n",
    "    x = R@x + F\n",
    "    eps.append(norm_e0 * q**i)"
   ]
  },
  {
   "cell_type": "code",
   "execution_count": 47,
   "metadata": {},
   "outputs": [
    {
     "data": {
      "text/plain": [
       "array([0.99999984, 1.99999968, 2.99999968, 3.99999967, 4.99999984])"
      ]
     },
     "execution_count": 47,
     "metadata": {},
     "output_type": "execute_result"
    }
   ],
   "source": [
    "x"
   ]
  },
  {
   "cell_type": "code",
   "execution_count": null,
   "metadata": {},
   "outputs": [],
   "source": []
  },
  {
   "cell_type": "markdown",
   "metadata": {},
   "source": [
    "<h3> Метод Якоби и метод Зейделя"
   ]
  },
  {
   "cell_type": "markdown",
   "metadata": {},
   "source": [
    "A = L + D + U,\n",
    "\n",
    "где L и U - нижняя и верхняя треугольные матрицы с нулевыми элементами на главной диагонали, D - диагональная матрица.\n",
    "Решаем СЛАУ вида: Lu + Du + Uu = f\n",
    "\n",
    "Итерационный процесс:\n",
    "\n",
    "$x^{k+1} = Rx^{k} + F$\n",
    "\n",
    "$R = –D^{–1}(L+U), F = D^{–1}f$ - метод Якоби\n",
    "\n",
    "$R = –(L+D)^{–1}U, F = (L+D)^{–1}f$ - метод Зейделя"
   ]
  },
  {
   "cell_type": "markdown",
   "metadata": {},
   "source": [
    "<h4> Задание 2"
   ]
  },
  {
   "cell_type": "markdown",
   "metadata": {},
   "source": [
    "Дана система линейных алгербаических уравнений:\n",
    "\n",
    "\\begin{equation*}\n",
    "\\begin{cases}\n",
    "-10x_{1} + x_{2} + x_{3} + x_{4} + x_{5}= 4 \\\\\n",
    "x_{1} - 10x_{2} + x_{3}= -16  \\\\\n",
    "x_{2} - 10x_{3} + x_{4}= -24  \\\\\n",
    "x_{3} - 10x_{4} + x_{5}= -32 \\\\\n",
    "x_{1} + x_{2} + x_{3} + x_{4} - 10x_{5} = -40 \\\\\n",
    " \\end{cases}\n",
    " \\end{equation*}\n",
    " \n",
    " При начальном приближении $\\vec{x^{0}} = (1,1,1,1,1)^{T}$"
   ]
  },
  {
   "cell_type": "markdown",
   "metadata": {},
   "source": [
    "1.1 Решите СЛАУ методом Якоби и Зейделя.\n",
    "\n",
    "1.2 Исследуйте сходимость методов Якоби и Зейделя для данной системы.  \n",
    "\n",
    "1.3 Используя точное решение СЛАУ $\\vec{x^{*}} = (1,2,3,4,5)^{T}$ постройте график зависимости погрешности решения от числа итераций для методов Якоби и Зейделя и сравните их, округляя до трёх знаков после запятой.\n",
    "\n",
    "1.4 Оцените число итераций необходимое для достижения точности $10^{-4}$. \n",
    "\n",
    "1.5 Решите СЛАУ с помощью numpy.linalg.solve и сравните полученный ответ с решением этой системы для числа итераций N = 10; 20; 100. "
   ]
  },
  {
   "cell_type": "markdown",
   "metadata": {},
   "source": [
    "**1.1** \n"
   ]
  },
  {
   "cell_type": "code",
   "execution_count": 67,
   "metadata": {},
   "outputs": [],
   "source": [
    "A = np.array([[-10,1,1,1,1], [1,-10,1,0,0], [0,1,-10,1,0],[0,0,1,-10,1],[1,1,1,1,-10]])\n",
    "b = np.array([4,-16,-24,-32,-40])\n",
    "x = np.array([1,1,1,1,1])"
   ]
  },
  {
   "cell_type": "code",
   "execution_count": 74,
   "metadata": {},
   "outputs": [],
   "source": [
    "L = np.zeros((A.shape[0], A.shape[0]))\n",
    "U = np.zeros((A.shape[0], A.shape[0]))\n",
    "D = np.zeros((A.shape[0], A.shape[0]))\n",
    "\n",
    "n = A.shape[0]\n",
    "\n",
    "for i in range(n):\n",
    "    for j in range(n):\n",
    "        if (i<j):\n",
    "            U[i, j] = A[i, j]\n",
    "        if (i>j):\n",
    "            L[i, j] = A[i, j]\n",
    "        if (i==j):\n",
    "            D[i,j] = A[i, j]"
   ]
  },
  {
   "cell_type": "markdown",
   "metadata": {},
   "source": [
    "**Методы Якоби и Зейделя**\n",
    "\n",
    "\"ya\" - для Якоби\n",
    "\n",
    "\"ze\" - для Зейделя"
   ]
  },
  {
   "cell_type": "code",
   "execution_count": 82,
   "metadata": {},
   "outputs": [],
   "source": [
    "R_ya = - np.linalg.inv(D) @ (L + U)\n",
    "F_ya = np.linalg.inv(D) @ b\n",
    "\n",
    "R_ze = - np.linalg.inv(L + D) @ U\n",
    "F_ze = np.linalg.inv(L + D) @ b\n",
    "\n",
    "x_ya = np.array([1,1,1,1,1])\n",
    "x_ze = np.array([1,1,1,1,1])"
   ]
  },
  {
   "cell_type": "code",
   "execution_count": 83,
   "metadata": {},
   "outputs": [],
   "source": [
    "for i in range(100):\n",
    "    x_ya = R @ x_ya + F\n",
    "    x_ze = R @ x_ze + F"
   ]
  },
  {
   "cell_type": "code",
   "execution_count": 84,
   "metadata": {},
   "outputs": [
    {
     "name": "stdout",
     "output_type": "stream",
     "text": [
      "Решение методом Якоби:  [1. 2. 3. 4. 5.]\n",
      "Решение методом Зейделя:  [1. 2. 3. 4. 5.]\n",
      "Решение с помощью стандартной библиотеки:  [1. 2. 3. 4. 5.]\n"
     ]
    }
   ],
   "source": [
    "print(\"Решение методом Якоби: \", x_ya )\n",
    "print(\"Решение методом Зейделя: \", x_ze )\n",
    "print(\"Решение с помощью стандартной библиотеки: \", np.linalg.solve(A, b))"
   ]
  },
  {
   "cell_type": "markdown",
   "metadata": {},
   "source": [
    "**1.2**\n",
    "\n",
    "Исследуем сходимость методов Якоби и Зейделя\n",
    "\n",
    "Для этого запишем критерий сходимости для обоих методов (он один и тот же)"
   ]
  },
  {
   "cell_type": "markdown",
   "metadata": {},
   "source": [
    "Нужная нам матрица из критерия будет иметь вид: $L + U + D \\cdot lambda$"
   ]
  },
  {
   "cell_type": "code",
   "execution_count": 87,
   "metadata": {},
   "outputs": [],
   "source": [
    "A_lambded = np.copy(A)\n",
    "\n",
    "# Запишем детермимант матрицы, которая равна матрице А, но все элементы на диагонали домножены на lambda\n",
    "# для нашей матрицы это:\n",
    "\n",
    "def determ(lambd):\n",
    "    return np.linalg.det(L+U+lambd*D)"
   ]
  },
  {
   "cell_type": "code",
   "execution_count": 101,
   "metadata": {},
   "outputs": [
    {
     "data": {
      "text/plain": [
       "array([0.])"
      ]
     },
     "execution_count": 101,
     "metadata": {},
     "output_type": "execute_result"
    }
   ],
   "source": [
    "from scipy import optimize\n",
    "\n",
    "scipy.optimize.fsolve(determ, 0)"
   ]
  },
  {
   "cell_type": "markdown",
   "metadata": {},
   "source": [
    "Для данной системы оба метода сходятся."
   ]
  },
  {
   "cell_type": "markdown",
   "metadata": {},
   "source": [
    "**1.3**"
   ]
  },
  {
   "cell_type": "code",
   "execution_count": 106,
   "metadata": {},
   "outputs": [],
   "source": [
    "x_ya = np.array([1,1,1,1,1])\n",
    "x_ze = np.array([1,1,1,1,1])\n",
    "x_real = np.array(np.linalg.solve(A, b))\n",
    "eps_ya = []\n",
    "eps_ze = []\n",
    "\n",
    "for i in range(10):\n",
    "    x_ya = R @ x_ya + F\n",
    "    x_ze = R @ x_ze + F\n",
    "    eps_ya.append(round(np.linalg.norm(x_ya - x_real ), 3))\n",
    "    eps_ze.append(round(np.linalg.norm(x_ze - x_real ), 3))"
   ]
  },
  {
   "cell_type": "code",
   "execution_count": 107,
   "metadata": {},
   "outputs": [
    {
     "data": {
      "image/png": "[encoded data removed]",
      "text/plain": [
       "<Figure size 936x432 with 1 Axes>"
      ]
     },
     "metadata": {
      "needs_background": "light"
     },
     "output_type": "display_data"
    }
   ],
   "source": [
    "plt.figure(figsize=(13, 6))\n",
    "nn = np.arange(0, 10)\n",
    "plt.plot(eps_ya, color='lawngreen', label=\"погрешность в методе Якоби\", linewidth=1)\n",
    "plt.plot(eps_ze, color='indigo', label=\"погрешность в методе Зейделя\", linewidth=1)\n",
    "plt.scatter(nn, eps_ya, color='lawngreen')\n",
    "plt.scatter(nn, eps_ze, color='indigo')\n",
    "plt.xlabel('итерация', fontsize=16)\n",
    "plt.ylabel('погрешность', fontsize=16)\n",
    "plt.legend(fontsize=19)\n",
    "plt.show()"
   ]
  },
  {
   "cell_type": "markdown",
   "metadata": {},
   "source": [
    "Как можно заметить, графики совпадают, то есть с точностью до 3 знаков после запятой погрешности будут у методов одинаковые. "
   ]
  },
  {
   "cell_type": "markdown",
   "metadata": {},
   "source": [
    "**1.4**\n",
    "\n",
    "Оцените число итераций необходимое для достижения точности.\n",
    "\n",
    "Здесь рассматривалось, чтобы между текущим и реальным решениями была разница не более, чем эта точность. Можно заменить значение в строке функции и посмотреть при разнице двух последующих решений."
   ]
  },
  {
   "cell_type": "code",
   "execution_count": 110,
   "metadata": {},
   "outputs": [
    {
     "name": "stdout",
     "output_type": "stream",
     "text": [
      "число итераций, нужное для метода Якоби: 8\n",
      "число итераций, нужное для метода Зейделя: 8\n"
     ]
    }
   ],
   "source": [
    "x_ya = np.array([1,1,1,1,1])\n",
    "x_ze = np.array([1,1,1,1,1])\n",
    "x_real = np.array(np.linalg.solve(A, b))\n",
    "eps_ya = []\n",
    "eps_ze = []\n",
    "needed_eps = 0.0001\n",
    "ya = True\n",
    "ze = True\n",
    "\n",
    "for i in range(100):\n",
    "    x_ya = R @ x_ya + F\n",
    "    x_ze = R @ x_ze + F\n",
    "    if (ya):\n",
    "        if (np.linalg.norm(x_ya - x_real ) < 0.0001):\n",
    "            print(\"число итераций, нужное для метода Якоби:\", i+1)   \n",
    "            # i+1, так как итерации считаем с нулевой\n",
    "            ya = False   # это значит, что уже достигли нужного числа итераций и больше не считаем\n",
    "    if(ze):\n",
    "        if (np.linalg.norm(x_ze - x_real ) < 0.0001):\n",
    "            print(\"число итераций, нужное для метода Зейделя:\", i+1)\n",
    "            ze = False"
   ]
  },
  {
   "cell_type": "markdown",
   "metadata": {},
   "source": [
    "**1.5**"
   ]
  },
  {
   "cell_type": "markdown",
   "metadata": {},
   "source": [
    "Для 10 итераций:"
   ]
  },
  {
   "cell_type": "code",
   "execution_count": 113,
   "metadata": {},
   "outputs": [
    {
     "name": "stdout",
     "output_type": "stream",
     "text": [
      "Реальное решение:  [1. 2. 3. 4. 5.]\n",
      "Якоби, 10 итераций:  [0.99999626 1.9999979  2.99999836 3.9999979  4.99999626]\n",
      "Зейдель, 10 итераций:  [0.99999626 1.9999979  2.99999836 3.9999979  4.99999626]\n"
     ]
    }
   ],
   "source": [
    "x_real = np.linalg.solve(A, b)\n",
    "x_ya_10 = np.array([1,1,1,1,1])\n",
    "x_ze_10 = np.array([1,1,1,1,1])\n",
    "\n",
    "for i in range(10):\n",
    "    x_ya_10 = R @ x_ya_10 + F\n",
    "    x_ze_10 = R @ x_ze_10 + F\n",
    "    \n",
    "print(\"Реальное решение: \", x_real)    \n",
    "print(\"Якоби, 10 итераций: \", x_ya_10)\n",
    "print(\"Зейдель, 10 итераций: \", x_ze_10)"
   ]
  },
  {
   "cell_type": "markdown",
   "metadata": {},
   "source": [
    "Как мы видим, решение верное мы уже почти получили"
   ]
  },
  {
   "cell_type": "markdown",
   "metadata": {},
   "source": [
    "Для 20 итераций:"
   ]
  },
  {
   "cell_type": "code",
   "execution_count": 115,
   "metadata": {},
   "outputs": [
    {
     "name": "stdout",
     "output_type": "stream",
     "text": [
      "Реальное решение:  [1. 2. 3. 4. 5.]\n",
      "Якоби, 20 итераций:  [1. 2. 3. 4. 5.]\n",
      "Зейдель, 20 итераций:  [1. 2. 3. 4. 5.]\n"
     ]
    }
   ],
   "source": [
    "x_real = np.linalg.solve(A, b)\n",
    "x_ya_20 = np.array([1,1,1,1,1])\n",
    "x_ze_20 = np.array([1,1,1,1,1])\n",
    "\n",
    "for i in range(20):\n",
    "    x_ya_20 = R @ x_ya_20 + F\n",
    "    x_ze_20 = R @ x_ze_20 + F\n",
    "    \n",
    "print(\"Реальное решение: \", x_real)    \n",
    "print(\"Якоби, 20 итераций: \", x_ya_20)\n",
    "print(\"Зейдель, 20 итераций: \", x_ze_20)"
   ]
  },
  {
   "cell_type": "markdown",
   "metadata": {},
   "source": [
    "Теперь у нас уже есть точное решение, совпадающее с тем, что было получено при помощи библиотечной функции."
   ]
  },
  {
   "cell_type": "markdown",
   "metadata": {},
   "source": [
    "Для 100 итераций:"
   ]
  },
  {
   "cell_type": "code",
   "execution_count": 116,
   "metadata": {},
   "outputs": [
    {
     "name": "stdout",
     "output_type": "stream",
     "text": [
      "Реальное решение:  [1. 2. 3. 4. 5.]\n",
      "Якоби, 100 итераций:  [1. 2. 3. 4. 5.]\n",
      "Зейдель, 100 итераций:  [1. 2. 3. 4. 5.]\n"
     ]
    }
   ],
   "source": [
    "x_real = np.linalg.solve(A, b)\n",
    "x_ya_100 = np.array([1,1,1,1,1])\n",
    "x_ze_100 = np.array([1,1,1,1,1])\n",
    "\n",
    "for i in range(100):\n",
    "    x_ya_100 = R @ x_ya_100 + F\n",
    "    x_ze_100 = R @ x_ze_100 + F\n",
    "    \n",
    "print(\"Реальное решение: \", x_real)    \n",
    "print(\"Якоби, 100 итераций: \", x_ya_100)\n",
    "print(\"Зейдель, 100 итераций: \", x_ze_100)"
   ]
  },
  {
   "cell_type": "markdown",
   "metadata": {},
   "source": [
    "И снова, мы получили нужное решение."
   ]
  },
  {
   "cell_type": "markdown",
   "metadata": {},
   "source": [
    "<h3> Метод наискорейшего спуска (метод градиентного спуска)"
   ]
  },
  {
   "cell_type": "markdown",
   "metadata": {},
   "source": [
    "$x^{k+1} = x^{k} - \\alpha f'(x^{k})$"
   ]
  },
  {
   "cell_type": "markdown",
   "metadata": {},
   "source": [
    "<h4> Задание 3"
   ]
  },
  {
   "cell_type": "markdown",
   "metadata": {},
   "source": [
    "3.1 Решите задачу минимизации квадратичной функции $f(x_{1},x_{2}) = x_{1}^{2} + 2x_{2}^{2} - 4x_{1} - 4x_{2}$ с помощью метода наискорейшего спуска.\n",
    "\n",
    "3.2 Постройте траекторию спуска (т. е. график в координатах ($x_{1},x_{2}$)).\n",
    "\n",
    "3.3 Постройте зависимость значения функции $f(x_{1},x_{2})$ от номера итерации (число итераций $\\approx 100$)."
   ]
  },
  {
   "cell_type": "markdown",
   "metadata": {},
   "source": [
    "**3.1**\n",
    "\n",
    "Решаем задачу минимизации."
   ]
  },
  {
   "cell_type": "code",
   "execution_count": 136,
   "metadata": {},
   "outputs": [],
   "source": [
    "# сама функция\n",
    "def f(x, y):\n",
    "    res = x **2 + 2* y**2 - 4*x - 4* y\n",
    "    return res\n",
    "\n",
    "# градиент\n",
    "def grad_f(x, y):\n",
    "    f_x = 2*x - 4\n",
    "    f_y = 4*y - 4\n",
    "    return f_x, f_y\n",
    "\n",
    "# шаг можно брать постоянный или переменный, возьмем постоянный\n",
    "alpha = 0.03\n",
    "\n",
    "iteration = 150\n",
    "f_vals = []\n",
    "x_vals = []\n",
    "y_vals=[]\n",
    "\n",
    "#начальные значения возьмем на всякий случай ненулевые (и не как решения системы)\n",
    "x = 1\n",
    "y = 5\n",
    "x_prev = 100\n",
    "y_prev = 100\n",
    "eps = 0.0001\n",
    "\n",
    "while(np.linalg.norm(np.array([x, y]) - np.array([x_prev, y_prev])) > eps):\n",
    "    x_vals.append(x)\n",
    "    y_vals.append(y)\n",
    "    f_vals.append(f(x, y))\n",
    "    x_prev = x\n",
    "    y_prev = y\n",
    "    x = x - alpha*grad_f(x, y)[0]\n",
    "    y = y - alpha*grad_f(x, y)[1]\n",
    "    "
   ]
  },
  {
   "cell_type": "code",
   "execution_count": 137,
   "metadata": {},
   "outputs": [
    {
     "name": "stdout",
     "output_type": "stream",
     "text": [
      "x =  1.9984919191403843\n",
      "y =  1.0000059257123672\n",
      "f_min =  -5.999997725621893\n"
     ]
    }
   ],
   "source": [
    "print(\"x = \", x)\n",
    "print(\"y = \", y)\n",
    "print(\"f_min = \", f(x,  y))"
   ]
  },
  {
   "cell_type": "markdown",
   "metadata": {},
   "source": [
    "До этого было записано решение с условием остановки, выраженным через разность между последующими решениями.\n",
    "\n",
    "Можно записать и в виде числа итераций:"
   ]
  },
  {
   "cell_type": "code",
   "execution_count": 139,
   "metadata": {},
   "outputs": [],
   "source": [
    "iteration = 110\n",
    "f_vals = []\n",
    "x_vals = []\n",
    "y_vals=[]\n",
    "\n",
    "#начальные значения возьмем на всякий случай ненулевые (и не как решения системы)\n",
    "x = 1\n",
    "y = 5\n",
    "eps = 0.0001\n",
    "\n",
    "for i in range(iteration):\n",
    "    x_vals.append(x)\n",
    "    y_vals.append(y)\n",
    "    f_vals.append(f(x, y))\n",
    "    x = x - alpha*grad_f(x, y)[0]\n",
    "    y = y - alpha*grad_f(x, y)[1]"
   ]
  },
  {
   "cell_type": "code",
   "execution_count": 140,
   "metadata": {},
   "outputs": [
    {
     "name": "stdout",
     "output_type": "stream",
     "text": [
      "x =  1.9988932133910238\n",
      "y =  1.000003127187546\n",
      "f_min =  -5.999998775003843\n"
     ]
    }
   ],
   "source": [
    "print(\"x = \", x)\n",
    "print(\"y = \", y)\n",
    "print(\"f_min = \", f(x,  y))"
   ]
  },
  {
   "cell_type": "markdown",
   "metadata": {},
   "source": [
    "Как можно заметить, решение почти такое же, точность довольно хорошая. Таким образом, можно предположить, что реальное оптимальное решение - это (2, 1) и минимальное значение функции это -6"
   ]
  },
  {
   "cell_type": "markdown",
   "metadata": {},
   "source": [
    "**1.2**\n",
    "\n",
    "Построим траекторию спуска"
   ]
  },
  {
   "cell_type": "code",
   "execution_count": 143,
   "metadata": {},
   "outputs": [
    {
     "data": {
      "image/png": "[encoded data removed]",
      "text/plain": [
       "<Figure size 936x432 with 1 Axes>"
      ]
     },
     "metadata": {
      "needs_background": "light"
     },
     "output_type": "display_data"
    }
   ],
   "source": [
    "plt.figure(figsize=(13, 6))\n",
    "plt.plot(x_vals, y_vals, color='indigo', label=\"траектория\", linewidth=1)\n",
    "plt.scatter(x_vals, y_vals, color='indigo')\n",
    "plt.xlabel('x', fontsize=16)\n",
    "plt.ylabel('y', fontsize=16)\n",
    "plt.title(\"Траектория спуска\")\n",
    "plt.legend(fontsize=19)\n",
    "plt.show()"
   ]
  },
  {
   "cell_type": "markdown",
   "metadata": {},
   "source": [
    "**1.3**\n",
    "\n",
    "Построим график зависимости значения функции от номера итерации."
   ]
  },
  {
   "cell_type": "code",
   "execution_count": 144,
   "metadata": {},
   "outputs": [
    {
     "data": {
      "image/png": "[encoded data removed]",
      "text/plain": [
       "<Figure size 936x432 with 1 Axes>"
      ]
     },
     "metadata": {
      "needs_background": "light"
     },
     "output_type": "display_data"
    }
   ],
   "source": [
    "plt.figure(figsize=(13, 6))\n",
    "ni = np.arange(0, iteration)\n",
    "plt.plot(f_vals, color='crimson', label=\"значение функции\", linewidth=1)\n",
    "plt.scatter(ni, f_vals, color='crimson')\n",
    "plt.xlabel('итерация', fontsize=16)\n",
    "plt.ylabel('значение функции', fontsize=16)\n",
    "plt.legend(fontsize=19)\n",
    "plt.show()\n"
   ]
  }
 ],
 "metadata": {
  "kernelspec": {
   "display_name": "Python 3",
   "language": "python",
   "name": "python3"
  },
  "language_info": {
   "codemirror_mode": {
    "name": "ipython",
    "version": 3
   },
   "file_extension": ".py",
   "mimetype": "text/x-python",
   "name": "python",
   "nbconvert_exporter": "python",
   "pygments_lexer": "ipython3",
   "version": "3.7.1"
  }
 },
 "nbformat": 4,
 "nbformat_minor": 2
}
