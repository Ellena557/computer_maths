{
 "cells": [
  {
   "cell_type": "markdown",
   "metadata": {},
   "source": [
    "**Задача 1**  \n",
    "Используя заготовку в следующем окне, напишите программу для вычисления матрично-векторного умножения для матрицы в координатном формате.  \n",
    "Сравните результат с выводом функции ```scipy.sparse.csr_matrix.dot``` (для этого сначала преобразуйте матрицу в CSR формат)"
   ]
  },
  {
   "cell_type": "code",
   "execution_count": 1,
   "metadata": {},
   "outputs": [],
   "source": [
    "%matplotlib inline\n",
    "from scipy import sparse\n",
    "from matplotlib import pyplot as plt\n",
    "import numpy as np\n",
    "\n",
    "N = 1000\n",
    "A = sparse.rand(N, N, 1e-3)\n",
    "A = sparse.coo_matrix(A)\n",
    "# A.data - элементы\n",
    "# A.row - индексы строк\n",
    "# A.col - индексы столбцов\n",
    "b = np.random.rand(N)\n",
    "\n",
    "#Ваш код здесь\n",
    "\n",
    "c = np.zeros(N)\n",
    "\n",
    "for i, j, data in zip(A.row, A.col, A.data):\n",
    "    #print(i, j, data)\n",
    "    c[i] += data * b[j]"
   ]
  },
  {
   "cell_type": "code",
   "execution_count": 31,
   "metadata": {},
   "outputs": [],
   "source": [
    "c_real = sparse.csr_matrix(A).dot(b)"
   ]
  },
  {
   "cell_type": "code",
   "execution_count": 33,
   "metadata": {},
   "outputs": [
    {
     "data": {
      "text/plain": [
       "True"
      ]
     },
     "execution_count": 33,
     "metadata": {},
     "output_type": "execute_result"
    }
   ],
   "source": [
    "np.allclose(c, c_real)"
   ]
  },
  {
   "cell_type": "markdown",
   "metadata": {},
   "source": [
    "**Задача 2**  \n",
    "Напишите программу для матрично векторного умножения для матрцы в CSR формате.  \n",
    "Сравните результат с выводом функции ```scipy.sparse.csr_matrix.dot``` (для этого сначала преобразуйте матрицу в CSR формат)"
   ]
  },
  {
   "cell_type": "code",
   "execution_count": 52,
   "metadata": {},
   "outputs": [],
   "source": [
    "from scipy import sparse\n",
    "from matplotlib import pyplot as plt\n",
    "import numpy as np\n",
    "\n",
    "N = 1000\n",
    "A = sparse.rand(N, N, 1e-3)\n",
    "A = sparse.csr_matrix(A)\n",
    "b = np.random.rand(N)\n",
    "\n",
    "#Ваш код здесь\n",
    "\n",
    "d = np.zeros(N)\n",
    "for i, j in zip(A.nonzero()[0], A.nonzero()[1]):\n",
    "    d[i] += A[i, j] * b[j]"
   ]
  },
  {
   "cell_type": "code",
   "execution_count": 53,
   "metadata": {},
   "outputs": [],
   "source": [
    "d_real = sparse.csr_matrix(A).dot(b)"
   ]
  },
  {
   "cell_type": "code",
   "execution_count": 55,
   "metadata": {},
   "outputs": [
    {
     "data": {
      "text/plain": [
       "True"
      ]
     },
     "execution_count": 55,
     "metadata": {},
     "output_type": "execute_result"
    }
   ],
   "source": [
    "np.allclose(d, d_real)"
   ]
  },
  {
   "cell_type": "markdown",
   "metadata": {},
   "source": [
    "**Задача 3**  \n",
    "Напишите программу (функцию) для решения системы с трехдиагональной матрицей методом прогонки. Сравните решение с решением из стандартной функции (```np.linalg.solve```)"
   ]
  },
  {
   "cell_type": "code",
   "execution_count": 185,
   "metadata": {},
   "outputs": [],
   "source": [
    "from matplotlib import pyplot as plt\n",
    "import numpy as np\n",
    "\n",
    "n = 4\n",
    "A = np.diag(np.random.rand(n) + 2*np.ones(n)) \\\n",
    "    + np.diag(np.random.rand(n-1), k = -1) \\\n",
    "    + np.diag(np.random.rand(n-1), k = +1)\n",
    "\n",
    "f = np.random.rand(n)\n",
    "#Ваш код здесь\n",
    "\n",
    "c = np.zeros(n-1)\n",
    "a = np.zeros(n-1)\n",
    "b = np.zeros(n)\n",
    "\n",
    "for i in range(n):\n",
    "    for j in range(n):\n",
    "        if (i == j):\n",
    "            b[i] = A[i, j]\n",
    "        if (i == j+1):\n",
    "            a[i-1] = A[i, j]\n",
    "        if (j == i+1):\n",
    "            c[i] = A[i, j]\n",
    "aa = np.array(a)\n",
    "bb = np.array(b)\n",
    "cc = np.array(c)\n",
    "dd = np.array(f)\n",
    "\n",
    "# прямой проход\n",
    "#cc[0] = c[0]/b[0]\n",
    "#dd[0] = f[0]/b[0]\n",
    "\n",
    "for i in range(1, n):\n",
    "    #cc[i] = c[i] / (b[i] - cc[i-1]*a[i-1])\n",
    "    #dd[i] = (f[i] - a[i-1] * dd[i-1]) / (b[i] - cc[i-1] * a[i-1])\n",
    "    bb[i] = bb[i] - cc[i-1] * (aa[i-1]/bb[i-1])\n",
    "    #cc[i] = cc[i] / (bb[i] - cc[i-1]*aa[i-1])\n",
    "    #dd[i] = (dd[i] - aa[i-1] * dd[i-1]) / (bb[i] - cc[i-1] * aa[i-1])\n",
    "    dd[i] = dd[i] - dd[i-1] * (aa[i-1]/bb[i-1])\n",
    "    \n",
    "# обратный проход\n",
    "x = np.array(bb)\n",
    "#x[n-1] = dd[n-1]\n",
    "x[n-1] = dd[n-1]/bb[n-1]\n",
    "for i in reversed(range(n-1)):\n",
    "    #x[i] = dd[i] - cc[i] * x[i+1]\n",
    "    x[i] = (dd[i]-cc[i]*x[i+1])/bb[i]"
   ]
  },
  {
   "cell_type": "code",
   "execution_count": 186,
   "metadata": {},
   "outputs": [],
   "source": [
    "x_real = np.linalg.solve(A, f)\n"
   ]
  },
  {
   "cell_type": "code",
   "execution_count": 187,
   "metadata": {},
   "outputs": [
    {
     "name": "stdout",
     "output_type": "stream",
     "text": [
      "[ 0.28560287 -0.05366131  0.30023273  0.15369222] [ 0.28560287 -0.05366131  0.30023273  0.15369222]\n"
     ]
    }
   ],
   "source": [
    "print(x, x_real)"
   ]
  },
  {
   "cell_type": "code",
   "execution_count": 188,
   "metadata": {},
   "outputs": [
    {
     "data": {
      "text/plain": [
       "True"
      ]
     },
     "execution_count": 188,
     "metadata": {},
     "output_type": "execute_result"
    }
   ],
   "source": [
    "np.allclose(x, x_real)"
   ]
  },
  {
   "cell_type": "code",
   "execution_count": 167,
   "metadata": {},
   "outputs": [
    {
     "name": "stdout",
     "output_type": "stream",
     "text": [
      "Матрица хорошая\n"
     ]
    }
   ],
   "source": [
    "correct = True\n",
    "if (abs(b[0] <= abs(c[0]))):\n",
    "    correct = False\n",
    "for i in range(n-1):\n",
    "    if (abs(b[i]) < abs(a[i]) + abs(c[i])):\n",
    "        correct = False\n",
    "        \n",
    "if(correct):\n",
    "    print(\"Матрица хорошая\")\n",
    "else:\n",
    "    print(\"Метод не сходится\")"
   ]
  },
  {
   "cell_type": "code",
   "execution_count": null,
   "metadata": {},
   "outputs": [],
   "source": []
  },
  {
   "cell_type": "markdown",
   "metadata": {},
   "source": [
    "**Задача 4** (2 балла)  \n",
    "Напишите программу для решения краевой задачи \n",
    "$$\n",
    "u_{xx} = f(x), \\; u(0) = a, u(1) = b\n",
    "$$\n",
    "конечно-разностным методом. \n",
    "0. Придумайте задачу с точным аналитическим решением (нельзя брать многочлены)\n",
    "1. Задайте число узлов\n",
    "2. Составьте матрицу линейной системы\n",
    "3. Заполните правую часть\n",
    "4. Решите линейную систему с помощью функции из предыдущей задачи\n",
    "5. Постройте на одном рисунке графики численного и точного решений\n"
   ]
  },
  {
   "cell_type": "code",
   "execution_count": 19,
   "metadata": {},
   "outputs": [],
   "source": [
    "# Положим, это нашя функция:\n",
    "def u_func(x):\n",
    "    #res = np.exp(x) + x ** 3\n",
    "    res = np.exp(x) - 1 + x * (- np.exp(1) + 1)\n",
    "    return res\n",
    "\n",
    "def func(x):\n",
    "    res = np.exp(x) \n",
    "    return res\n",
    "\n",
    "#u(0) = 1+0 = 1\n",
    "u0 = 0\n",
    "\n",
    "#u(1) = e + 1 \n",
    "u1 = 0"
   ]
  },
  {
   "cell_type": "code",
   "execution_count": 20,
   "metadata": {},
   "outputs": [],
   "source": [
    "n = 20000 # число узлов"
   ]
  },
  {
   "cell_type": "code",
   "execution_count": 21,
   "metadata": {},
   "outputs": [],
   "source": [
    "# Строим сетку\n",
    "x = np.zeros(n+2)\n",
    "\n",
    "for i in range(n+2):\n",
    "    h = 1/(n+1)\n",
    "    x[i] = i * h"
   ]
  },
  {
   "cell_type": "code",
   "execution_count": 22,
   "metadata": {},
   "outputs": [],
   "source": [
    "# строим матрицу линейной системы\n",
    "A = np.diag(np.ones(n)*(-2)) \\\n",
    "    + np.diag(np.ones(n-1), k = -1) \\\n",
    "    + np.diag(np.ones(n-1), k = +1)\n",
    "\n",
    "# строим правую часть\n",
    "f = np.zeros(n)\n",
    "for i in range(1, n+1):\n",
    "    cur = x[i]\n",
    "    f[i-1] = func(cur)"
   ]
  },
  {
   "cell_type": "code",
   "execution_count": 23,
   "metadata": {},
   "outputs": [],
   "source": [
    "A = np.array(A)\n",
    "f = np.array(f)"
   ]
  },
  {
   "cell_type": "code",
   "execution_count": 24,
   "metadata": {},
   "outputs": [],
   "source": [
    "u = np.zeros(n+2)\n",
    "h = 1/(n+1)\n",
    "x_solved = solve_tridiag(A, f * (h ** 2))"
   ]
  },
  {
   "cell_type": "code",
   "execution_count": 25,
   "metadata": {},
   "outputs": [],
   "source": [
    "def solve_tridiag(A, f):\n",
    "    n = A.shape[0]\n",
    "    a = np.zeros(n-1)\n",
    "    b = np.zeros(n)\n",
    "    c = np.zeros(n-1)\n",
    "\n",
    "    for i in range(n):\n",
    "        for j in range(n):\n",
    "            if (i == j):\n",
    "                b[i] = A[i, j]\n",
    "            if (i == j+1):\n",
    "                a[i-1] = A[i, j]\n",
    "            if (j == i+1):\n",
    "                c[i] = A[i, j]\n",
    "        \n",
    "    #print(\"A\", A)\n",
    "    #print(\"a\", a)\n",
    "    #print(\"b\", b)\n",
    "    #print(\"c\", c)\n",
    "    \n",
    "    aa = np.array(a)\n",
    "    bb = np.array(b)\n",
    "    cc = np.array(c)\n",
    "    dd = np.array(f)\n",
    "\n",
    "    # прямой проход\n",
    "    for i in range(1, n):\n",
    "        bb[i] = bb[i] - cc[i-1] * (aa[i-1]/bb[i-1])\n",
    "        dd[i] = dd[i] - dd[i-1] * (aa[i-1]/bb[i-1])\n",
    "    \n",
    "    # обратный проход\n",
    "    x = np.array(bb)\n",
    "    x[n-1] = dd[n-1]/bb[n-1]\n",
    "    for i in reversed(range(n-1)):\n",
    "        x[i] = (dd[i] - cc[i] * x[i + 1]) / bb[i]\n",
    "    return x "
   ]
  },
  {
   "cell_type": "code",
   "execution_count": 26,
   "metadata": {},
   "outputs": [],
   "source": [
    "u = np.zeros(n+2)\n",
    "u[0] = u0\n",
    "for i in range(1, n+1):\n",
    "    u[i] = x_solved[i-1] \n",
    "u[-1] = u1"
   ]
  },
  {
   "cell_type": "code",
   "execution_count": 27,
   "metadata": {},
   "outputs": [],
   "source": [
    "u_real = np.zeros(n+2)\n",
    "\n",
    "for i in range(n+2):\n",
    "    u_real[i] = u_func(x[i])"
   ]
  },
  {
   "cell_type": "code",
   "execution_count": 28,
   "metadata": {},
   "outputs": [
    {
     "data": {
      "image/png": "[encoded data removed]",
      "text/plain": [
       "<Figure size 936x432 with 1 Axes>"
      ]
     },
     "metadata": {
      "needs_background": "light"
     },
     "output_type": "display_data"
    }
   ],
   "source": [
    "plt.figure(figsize=(13, 6))\n",
    "plt.plot(x, u, color='crimson', label=\"численное решение\", linewidth=1.5)\n",
    "plt.plot(x, u_real, color='indigo', label=\"точное решение\", linewidth=1)\n",
    "plt.xlabel('x', fontsize=16)\n",
    "plt.ylabel('f(x)', fontsize=16)\n",
    "plt.legend(fontsize=19)\n",
    "plt.show()"
   ]
  },
  {
   "cell_type": "markdown",
   "metadata": {},
   "source": [
    "Решения на графике полностью совпали. Вообще можно сделать число итераций поменьше, тогда работать будет быстрее и различие, возможно, будет лучше видно."
   ]
  }
 ],
 "metadata": {
  "kernelspec": {
   "display_name": "Python 3",
   "language": "python",
   "name": "python3"
  },
  "language_info": {
   "codemirror_mode": {
    "name": "ipython",
    "version": 3
   },
   "file_extension": ".py",
   "mimetype": "text/x-python",
   "name": "python",
   "nbconvert_exporter": "python",
   "pygments_lexer": "ipython3",
   "version": "3.7.1"
  }
 },
 "nbformat": 4,
 "nbformat_minor": 2
}
