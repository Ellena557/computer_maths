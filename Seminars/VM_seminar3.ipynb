{
 "cells": [
  {
   "cell_type": "markdown",
   "metadata": {},
   "source": [
    "## 1. Реализация LU-разложения"
   ]
  },
  {
   "cell_type": "code",
   "execution_count": 100,
   "metadata": {},
   "outputs": [],
   "source": [
    "import numpy as np\n",
    "from scipy import linalg as LA\n",
    "import math"
   ]
  },
  {
   "cell_type": "code",
   "execution_count": 85,
   "metadata": {},
   "outputs": [],
   "source": [
    "# вспомогательные элементы:\n",
    "\n",
    "# единичная матрица\n",
    "def makeI(n):\n",
    "    I = []\n",
    "    for i in range(n):\n",
    "        k = np.zeros(n)\n",
    "        k[i] = 1\n",
    "        I.append(k)\n",
    "    return np.array(I)"
   ]
  },
  {
   "cell_type": "code",
   "execution_count": 86,
   "metadata": {},
   "outputs": [],
   "source": [
    "# функция нахождения LU-разложения матрицы\n",
    "def findLU(A):\n",
    "    U = np.copy(A)\n",
    "    n = len(A)\n",
    "    # единичная матрица\n",
    "    L = makeI(n)\n",
    "    \n",
    "    for i in range(0, n-1):\n",
    "        for j in range(i+1, n):\n",
    "            L[j, i] = U[j, i] / U[i, i]\n",
    "            U[j, i:n] = U[j, i:n] - L[j, i] * U[i, i:n]\n",
    "            \n",
    "    L = np.array(L)\n",
    "    U = np.array(U)\n",
    "    return L, U"
   ]
  },
  {
   "cell_type": "markdown",
   "metadata": {},
   "source": [
    "**Проверка:**"
   ]
  },
  {
   "cell_type": "code",
   "execution_count": 87,
   "metadata": {},
   "outputs": [],
   "source": [
    "# матрица 2*2\n",
    "A = [[1, 7], [2, 5]]"
   ]
  },
  {
   "cell_type": "code",
   "execution_count": 88,
   "metadata": {},
   "outputs": [
    {
     "name": "stdout",
     "output_type": "stream",
     "text": [
      "L: \n",
      "[[1. 0.]\n",
      " [2. 1.]]\n",
      "--------------------\n",
      "U: \n",
      "[[ 1  7]\n",
      " [ 0 -9]]\n"
     ]
    }
   ],
   "source": [
    "#Наш алгоритм:\n",
    "l, u = findLU(A)\n",
    "print(\"L: \")\n",
    "print(l)\n",
    "print(\"--------------------\")\n",
    "print(\"U: \")\n",
    "print(u)"
   ]
  },
  {
   "cell_type": "code",
   "execution_count": 93,
   "metadata": {},
   "outputs": [
    {
     "name": "stdout",
     "output_type": "stream",
     "text": [
      "[[0. 0.]\n",
      " [0. 0.]]\n"
     ]
    }
   ],
   "source": [
    "# должен получиться ноль (нулевая матрица):\n",
    "\n",
    "N = A - l @ u\n",
    "print(N)"
   ]
  },
  {
   "cell_type": "markdown",
   "metadata": {},
   "source": [
    "## Реализация разложения Холецкого"
   ]
  },
  {
   "cell_type": "code",
   "execution_count": 263,
   "metadata": {},
   "outputs": [],
   "source": [
    "def findCholesky(A):\n",
    "    A = np.array(A)\n",
    "    n = len(A)\n",
    "    C = np.array(np.zeros((n, n)))\n",
    "    \n",
    "    for i in range(n):\n",
    "        for k in range(0, i+1):\n",
    "            sum_prev = sum(C[i, 0:i] ** 2)\n",
    "            sum_prev_2 = sum(C[i, 0:k] * C[k, 0:k])\n",
    "            \n",
    "            C[i, i] = math.sqrt(A[i, i] - sum_prev)\n",
    "            assert(C[i, i] > 0)\n",
    "            \n",
    "            if (i != k):\n",
    "                elem = (A[i, k] - sum_prev_2)\n",
    "                C[i, k] = (elem / C[k, k])\n",
    "    return C"
   ]
  },
  {
   "cell_type": "markdown",
   "metadata": {},
   "source": [
    "**Проверка:**"
   ]
  },
  {
   "cell_type": "code",
   "execution_count": 266,
   "metadata": {},
   "outputs": [],
   "source": [
    "# матрица 3*3\n",
    "A = [[6, 3, 4], [3, 6, 5], [4, 5, 10]]"
   ]
  },
  {
   "cell_type": "code",
   "execution_count": 269,
   "metadata": {},
   "outputs": [
    {
     "name": "stdout",
     "output_type": "stream",
     "text": [
      "[[2.44948974 0.         0.        ]\n",
      " [1.22474487 2.12132034 0.        ]\n",
      " [1.63299316 1.41421356 2.30940108]]\n"
     ]
    }
   ],
   "source": [
    "c = findCholesky(A)\n",
    "print(c)"
   ]
  },
  {
   "cell_type": "code",
   "execution_count": 274,
   "metadata": {},
   "outputs": [
    {
     "data": {
      "text/plain": [
       "True"
      ]
     },
     "execution_count": 274,
     "metadata": {},
     "output_type": "execute_result"
    }
   ],
   "source": [
    "# должен получиться ноль (нулевая матрица):\n",
    "\n",
    "N = A - c @ np.transpose(c)\n",
    "Nuls = [[0, 0, 0], [0, 0, 0], [0, 0, 0]]\n",
    "\n",
    "np.allclose(N, Nuls)"
   ]
  }
 ],
 "metadata": {
  "kernelspec": {
   "display_name": "Python 3",
   "language": "python",
   "name": "python3"
  },
  "language_info": {
   "codemirror_mode": {
    "name": "ipython",
    "version": 3
   },
   "file_extension": ".py",
   "mimetype": "text/x-python",
   "name": "python",
   "nbconvert_exporter": "python",
   "pygments_lexer": "ipython3",
   "version": "3.7.1"
  }
 },
 "nbformat": 4,
 "nbformat_minor": 2
}
